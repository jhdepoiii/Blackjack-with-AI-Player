{
 "cells": [
  {
   "cell_type": "markdown",
   "metadata": {},
   "source": [
    "# Blackjack with AI player"
   ]
  },
  {
   "cell_type": "code",
   "execution_count": 6,
   "metadata": {
    "collapsed": true
   },
   "outputs": [],
   "source": [
    "import random"
   ]
  },
  {
   "cell_type": "code",
   "execution_count": 7,
   "metadata": {
    "collapsed": true
   },
   "outputs": [],
   "source": [
    "SUITS = ['club', 'spade', 'heart', 'diamond']\n",
    "RANKS = ['2','3','4','5','6','7','8','9','10','J','Q','K','A']\n",
    "\n",
    "# Card class keeps:\n",
    "    # suit - The suit of the card [club, spade, heart, diamond]\n",
    "    # rank - The rank of the card [2,3,4,5,6,7,8,9,10,J,Q,K,A]\n",
    "    # value - The point value associated with the rank\n",
    "    # hidden - faceDown = True ; faceUp = false\n",
    "    # isAce - True if the card is an Ace\n",
    "class Card(object):\n",
    "    \n",
    "    def __init__(self, suit, rank):\n",
    "        self.suit = suit\n",
    "        self.rank = rank\n",
    "        \n",
    "        if rank == 'A':\n",
    "            self.value = 11\n",
    "            self.isAce = True\n",
    "        elif rank in ['J','Q','K']:\n",
    "            self.value = 10\n",
    "            self.isAce = False\n",
    "        else:\n",
    "            self.value = int(rank) # 2-10\n",
    "            self.isAce = False\n",
    "            \n",
    "        self.hidden = False # Dealer will have one card hidden from the player\n",
    "         \n",
    "    def __str__(self):\n",
    "        if self.hidden:\n",
    "            return str(tuple('X'))\n",
    "        else: \n",
    "            return str((self.suit, self.rank))\n",
    "    \n",
    "    def hideCard(self):\n",
    "        self.hidden = True\n",
    "        \n",
    "    def showCard(self):\n",
    "        self.hidden = False\n",
    "\n",
    "# Deck class keeps:\n",
    "    # cards - list of cards remaining in the deck\n",
    "class Deck(object):\n",
    "    \n",
    "    def __init__(self, nDecks = 1):\n",
    "        self.buildDeck(nDecks)\n",
    "        self.prepareDeck()\n",
    "    \n",
    "    def buildDeck(self, nDecks):\n",
    "        self.cards = [Card(suit,rank) for i in range(nDecks) for suit in SUITS for rank in RANKS]\n",
    "    \n",
    "    def prepareDeck(self):\n",
    "        for i in range(7):\n",
    "            self.shuffle()\n",
    "            \n",
    "    def shuffle(self):\n",
    "        random.shuffle(self.cards)\n",
    "        \n",
    "    def draw(self):\n",
    "        card = self.cards.pop(0)\n",
    "        return card\n",
    "    \n",
    "    def __len__(self):\n",
    "        return len(self.cards)\n",
    "    \n",
    "    def __str__(self):\n",
    "        return str([str(card) for card in self.cards])\n",
    "    \n",
    "# Hand class keeps\n",
    "    # hand - cards in the hand\n",
    "    # bet - the bet placed on the hand\n",
    "class Hand(object):\n",
    "    \n",
    "    def __init__(self, card = None, bet = 50):\n",
    "        self.aces = 0\n",
    "        if card:\n",
    "            self.hand = [card]\n",
    "        else:\n",
    "            self.hand = []\n",
    "        self.bet = bet\n",
    "        \n",
    "    def addCard(self, card):\n",
    "        self.hand.append(card)     \n",
    "            \n",
    "    def removeCard(self):\n",
    "        return self.hand.pop()\n",
    "    \n",
    "    @property\n",
    "    def value(self):\n",
    "        value = sum(card.value for card in self.hand)\n",
    "        aces = sum(card.isAce for card in self.hand)  \n",
    "        # Aces are initially given a value of 11, they are ammended to 1 if the total valaue is > 21\n",
    "        while (value > 21) and aces: \n",
    "            value -= 10\n",
    "            aces -= 1\n",
    "        return value\n",
    "        \n",
    "    def __str__(self):\n",
    "        return str([str(card) for card in self.hand])\n",
    "        "
   ]
  },
  {
   "cell_type": "code",
   "execution_count": 11,
   "metadata": {},
   "outputs": [
    {
     "ename": "IndentationError",
     "evalue": "expected an indented block (<ipython-input-11-6d5802e3db98>, line 30)",
     "output_type": "error",
     "traceback": [
      "\u001b[1;36m  File \u001b[1;32m\"<ipython-input-11-6d5802e3db98>\"\u001b[1;36m, line \u001b[1;32m30\u001b[0m\n\u001b[1;33m    for i in range(2):\u001b[0m\n\u001b[1;37m    ^\u001b[0m\n\u001b[1;31mIndentationError\u001b[0m\u001b[1;31m:\u001b[0m expected an indented block\n"
     ]
    }
   ],
   "source": [
    "# Player class keeps:\n",
    "    # money\n",
    "    # hands\n",
    "class Player:\n",
    "    \n",
    "    def __init__(self, money = 5000, validMovesF, makeMovesF):\n",
    "        self.money = money\n",
    "        self.hands = []\n",
    "        self.isBust = False\n",
    "        \n",
    "    def checkBust(self):\n",
    "        if self.hand.value > 21:\n",
    "            self.isBust = True\n",
    "        return self.isBust\n",
    "    \n",
    "    def showHands(self):\n",
    "        if len(self.hands) is 0:\n",
    "            print(\"Player has no hands.\")\n",
    "            return\n",
    "        else:\n",
    "            print(\"Player has %d hands: \\n\" % len(self.hands))\n",
    "        \n",
    "            for hand in self.hands:\n",
    "                print(hand)\n",
    "            print()\n",
    "    \n",
    "    def stats(self):\n",
    "        print(\"Player has $%d left.\" % self.money)\n",
    "        # possible other stats later on\n",
    "        \n",
    "\n",
    "# Dealer class keeps:\n",
    "    # deck\n",
    "    # hand\n",
    "    # isBust\n",
    "class Dealer:\n",
    "    \n",
    "    def __init__(self, deck, hand, Player):\n",
    "        self.deck = deck\n",
    "        self.hand = hand\n",
    "        self.isBust = False\n",
    "        self.Players = Players\n",
    "    \n",
    "    def deal(self):\n",
    "        for i in range(2): # deal each player, including the dealer, 2 cards\n",
    "            self.hand.addCard(self.deck.draw()) # Deal the dealer a card\n",
    "            if i == 0: # dealers first card is face down\n",
    "                self.hand[0].hideCard() \n",
    "            Player.hand.addCard(self.deck.draw()) # Deal the player a card        \n",
    "        \n",
    "    def hit(self):\n",
    "        self.hand.addCard(self.deck.draw())\n",
    "            \n",
    "    def stand(self):\n",
    "        return self.hand\n",
    "    \n",
    "    def checkBust(self):\n",
    "        if self.hand.value > 21:\n",
    "            self.isBust = True\n",
    "        return self.isBust\n",
    "    \n",
    "    def showHands(self):\n",
    "        if len(self.hands) is 0:\n",
    "            print(\"Dealer has no hand.\")\n",
    "            return\n",
    "        else:\n",
    "            print(\"Dealer has %d hands: \\n\" % len(self.hands))\n",
    "            for hand in self.hands:\n",
    "                print(hand)\n",
    "            print()\n",
    "    \n",
    "    \n",
    "def validMoves():\n",
    "    return 0\n",
    "\n",
    "def makeMoves():\n",
    "    return 0"
   ]
  },
  {
   "cell_type": "markdown",
   "metadata": {},
   "source": [
    "## Testing"
   ]
  },
  {
   "cell_type": "code",
   "execution_count": 9,
   "metadata": {},
   "outputs": [
    {
     "name": "stdout",
     "output_type": "stream",
     "text": [
      "312\n",
      "[\"('diamond', '5')\", \"('heart', '5')\", \"('diamond', '5')\", \"('spade', '4')\", \"('heart', '10')\", \"('heart', '9')\", \"('heart', '6')\", \"('diamond', '10')\", \"('spade', 'K')\", \"('diamond', '6')\", \"('heart', 'Q')\", \"('diamond', '7')\", \"('club', '3')\", \"('club', 'Q')\", \"('club', '2')\", \"('club', '3')\", \"('heart', '9')\", \"('diamond', '10')\", \"('heart', 'Q')\", \"('heart', '9')\", \"('club', '10')\", \"('club', '2')\", \"('spade', '9')\", \"('diamond', '7')\", \"('heart', '6')\", \"('diamond', '4')\", \"('heart', '6')\", \"('heart', '10')\", \"('spade', '4')\", \"('spade', '2')\", \"('spade', 'A')\", \"('diamond', '3')\", \"('diamond', 'A')\", \"('club', 'Q')\", \"('club', '2')\", \"('spade', '9')\", \"('diamond', '8')\", \"('club', '8')\", \"('club', '7')\", \"('club', '7')\", \"('spade', '6')\", \"('spade', '6')\", \"('spade', 'A')\", \"('heart', '5')\", \"('spade', '9')\", \"('spade', '10')\", \"('spade', 'Q')\", \"('diamond', 'A')\", \"('diamond', '7')\", \"('diamond', '4')\", \"('club', '4')\", \"('club', 'K')\", \"('spade', '3')\", \"('diamond', '3')\", \"('club', '4')\", \"('club', 'J')\", \"('spade', '10')\", \"('club', '4')\", \"('heart', '3')\", \"('spade', '6')\", \"('club', '3')\", \"('heart', '2')\", \"('heart', '8')\", \"('diamond', 'J')\", \"('spade', 'Q')\", \"('heart', '10')\", \"('diamond', 'Q')\", \"('heart', 'J')\", \"('heart', '8')\", \"('club', 'K')\", \"('club', '10')\", \"('club', '8')\", \"('heart', 'J')\", \"('club', '9')\", \"('club', 'J')\", \"('club', '8')\", \"('spade', '6')\", \"('spade', '5')\", \"('diamond', 'A')\", \"('heart', '3')\", \"('heart', '3')\", \"('club', '2')\", \"('club', '3')\", \"('heart', '8')\", \"('spade', 'K')\", \"('diamond', '9')\", \"('club', '6')\", \"('heart', '9')\", \"('heart', '7')\", \"('spade', 'Q')\", \"('diamond', 'A')\", \"('diamond', 'Q')\", \"('club', 'Q')\", \"('club', '9')\", \"('club', '7')\", \"('spade', '10')\", \"('diamond', '8')\", \"('diamond', 'K')\", \"('heart', 'J')\", \"('heart', 'Q')\", \"('heart', 'K')\", \"('spade', '8')\", \"('diamond', '9')\", \"('diamond', '4')\", \"('spade', '6')\", \"('spade', '2')\", \"('diamond', 'J')\", \"('club', '10')\", \"('diamond', '6')\", \"('club', '2')\", \"('diamond', 'A')\", \"('club', 'K')\", \"('heart', '6')\", \"('diamond', '2')\", \"('spade', 'A')\", \"('heart', '4')\", \"('heart', '5')\", \"('diamond', '4')\", \"('diamond', 'J')\", \"('diamond', '2')\", \"('diamond', '10')\", \"('club', 'A')\", \"('diamond', '6')\", \"('spade', 'A')\", \"('spade', '9')\", \"('spade', 'A')\", \"('club', 'J')\", \"('spade', '2')\", \"('spade', '7')\", \"('heart', 'J')\", \"('diamond', '9')\", \"('club', '8')\", \"('diamond', '3')\", \"('spade', '9')\", \"('diamond', '7')\", \"('heart', 'K')\", \"('heart', '8')\", \"('heart', '7')\", \"('club', 'A')\", \"('heart', '3')\", \"('heart', '5')\", \"('heart', '2')\", \"('diamond', '9')\", \"('spade', 'K')\", \"('diamond', '10')\", \"('diamond', '5')\", \"('heart', '2')\", \"('heart', '3')\", \"('diamond', '4')\", \"('club', 'A')\", \"('diamond', 'Q')\", \"('spade', '7')\", \"('heart', '4')\", \"('diamond', 'K')\", \"('spade', '2')\", \"('spade', '8')\", \"('club', '4')\", \"('diamond', '8')\", \"('diamond', '2')\", \"('spade', '10')\", \"('spade', 'J')\", \"('spade', '9')\", \"('heart', 'K')\", \"('club', 'K')\", \"('club', 'J')\", \"('diamond', 'J')\", \"('club', 'Q')\", \"('spade', '4')\", \"('club', '5')\", \"('heart', '4')\", \"('club', 'Q')\", \"('heart', 'A')\", \"('heart', '7')\", \"('heart', 'A')\", \"('heart', '6')\", \"('club', '5')\", \"('club', '5')\", \"('club', '9')\", \"('spade', '4')\", \"('heart', '4')\", \"('club', 'J')\", \"('club', '3')\", \"('spade', 'J')\", \"('spade', '4')\", \"('club', '5')\", \"('club', '10')\", \"('diamond', '2')\", \"('diamond', 'Q')\", \"('spade', '5')\", \"('heart', 'K')\", \"('club', '7')\", \"('heart', 'A')\", \"('heart', 'K')\", \"('club', '7')\", \"('heart', '9')\", \"('spade', '10')\", \"('diamond', 'K')\", \"('diamond', '6')\", \"('spade', '5')\", \"('heart', '2')\", \"('club', '5')\", \"('club', '6')\", \"('club', '9')\", \"('heart', 'Q')\", \"('heart', '5')\", \"('diamond', '6')\", \"('spade', 'J')\", \"('club', '4')\", \"('spade', '7')\", \"('diamond', '10')\", \"('spade', '10')\", \"('spade', '2')\", \"('spade', 'Q')\", \"('spade', '3')\", \"('heart', 'Q')\", \"('spade', 'K')\", \"('spade', 'K')\", \"('spade', '3')\", \"('spade', 'Q')\", \"('club', 'K')\", \"('heart', 'J')\", \"('spade', '6')\", \"('club', '4')\", \"('diamond', 'Q')\", \"('spade', 'J')\", \"('spade', '4')\", \"('heart', '2')\", \"('diamond', '2')\", \"('diamond', '2')\", \"('diamond', '5')\", \"('club', '6')\", \"('heart', '5')\", \"('spade', 'J')\", \"('club', '6')\", \"('club', '9')\", \"('heart', '10')\", \"('diamond', '8')\", \"('club', 'Q')\", \"('spade', '3')\", \"('diamond', 'K')\", \"('diamond', '5')\", \"('heart', '10')\", \"('heart', '4')\", \"('club', '9')\", \"('club', '2')\", \"('club', '6')\", \"('spade', '3')\", \"('heart', 'A')\", \"('diamond', 'K')\", \"('heart', '7')\", \"('spade', '8')\", \"('diamond', '5')\", \"('heart', 'A')\", \"('diamond', 'K')\", \"('spade', '7')\", \"('heart', 'Q')\", \"('heart', '9')\", \"('spade', '8')\", \"('spade', '3')\", \"('diamond', '8')\", \"('heart', '8')\", \"('heart', '10')\", \"('diamond', 'Q')\", \"('diamond', '8')\", \"('spade', '2')\", \"('heart', '8')\", \"('spade', '8')\", \"('club', '3')\", \"('club', 'A')\", \"('club', 'A')\", \"('club', 'K')\", \"('diamond', '6')\", \"('diamond', 'J')\", \"('diamond', '9')\", \"('heart', '7')\", \"('heart', '6')\", \"('heart', 'J')\", \"('club', '8')\", \"('club', '6')\", \"('diamond', '9')\", \"('diamond', 'J')\", \"('spade', '8')\", \"('heart', '2')\", \"('spade', 'J')\", \"('diamond', '7')\", \"('diamond', '3')\", \"('spade', '7')\", \"('heart', '3')\", \"('heart', '4')\", \"('diamond', 'A')\", \"('heart', 'A')\", \"('spade', '5')\", \"('spade', 'A')\", \"('spade', 'K')\", \"('diamond', '4')\", \"('diamond', '3')\", \"('diamond', '3')\", \"('club', '10')\", \"('club', 'J')\", \"('spade', '5')\", \"('club', '5')\", \"('diamond', '10')\", \"('spade', '7')\", \"('spade', 'Q')\", \"('heart', '7')\", \"('spade', '5')\", \"('diamond', '7')\", \"('heart', 'K')\", \"('club', '7')\", \"('club', 'A')\", \"('club', '10')\", \"('club', '8')\"]\n",
      "('diamond', '5')\n",
      "('heart', '5')\n",
      "310\n"
     ]
    }
   ],
   "source": [
    "deck = Deck(6)\n",
    "print(len(deck))\n",
    "print(str(deck))\n",
    "print(str(deck.draw()))\n",
    "print(str(deck.draw()))\n",
    "print(len(deck))"
   ]
  },
  {
   "cell_type": "code",
   "execution_count": 10,
   "metadata": {},
   "outputs": [
    {
     "name": "stdout",
     "output_type": "stream",
     "text": [
      "156\n",
      "[\"('heart', '8')\"]\n",
      "[\"('heart', '8')\", \"('spade', '6')\"]\n",
      "[\"('heart', '8')\", \"('spade', '6')\", \"('diamond', 'K')\"]\n",
      "24\n"
     ]
    }
   ],
   "source": [
    "deck = Deck(3)\n",
    "print(len(deck))\n",
    "hand = Hand()\n",
    "hand.addCard(deck.draw())\n",
    "print(str(hand))\n",
    "hand.addCard(deck.draw())\n",
    "print(str(hand))\n",
    "hand.addCard(deck.draw())\n",
    "print(str(hand))\n",
    "print(str(hand.value))"
   ]
  },
  {
   "cell_type": "code",
   "execution_count": null,
   "metadata": {
    "collapsed": true
   },
   "outputs": [],
   "source": []
  },
  {
   "cell_type": "code",
   "execution_count": null,
   "metadata": {
    "collapsed": true
   },
   "outputs": [],
   "source": []
  },
  {
   "cell_type": "code",
   "execution_count": null,
   "metadata": {
    "collapsed": true
   },
   "outputs": [],
   "source": []
  }
 ],
 "metadata": {
  "kernelspec": {
   "display_name": "Python 3",
   "language": "python",
   "name": "python3"
  },
  "language_info": {
   "codemirror_mode": {
    "name": "ipython",
    "version": 3
   },
   "file_extension": ".py",
   "mimetype": "text/x-python",
   "name": "python",
   "nbconvert_exporter": "python",
   "pygments_lexer": "ipython3",
   "version": "3.6.1"
  }
 },
 "nbformat": 4,
 "nbformat_minor": 2
}
