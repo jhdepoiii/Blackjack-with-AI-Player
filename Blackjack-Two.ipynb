{
 "cells": [
  {
   "cell_type": "markdown",
   "metadata": {},
   "source": [
    "# Blackjack with AI player"
   ]
  },
  {
   "cell_type": "code",
   "execution_count": 133,
   "metadata": {
    "collapsed": true
   },
   "outputs": [],
   "source": [
    "import random"
   ]
  },
  {
   "cell_type": "code",
   "execution_count": 134,
   "metadata": {
    "collapsed": true
   },
   "outputs": [],
   "source": [
    "SUITS = ['club', 'spade', 'heart', 'diamond']\n",
    "RANKS = ['2','3','4','5','6','7','8','9','10','J','Q','K','A']\n",
    "\n",
    "# Card class keeps:\n",
    "    # suit - The suit of the card [club, spade, heart, diamond]\n",
    "    # rank - The rank of the card [2,3,4,5,6,7,8,9,10,J,Q,K,A]\n",
    "    # value - The point value associated with the rank\n",
    "    # hidden - faceDown = True ; faceUp = false\n",
    "    # isAce - True if the card is an Ace\n",
    "class Card(object):\n",
    "    \n",
    "    def __init__(self, suit, rank):\n",
    "        self.suit = suit\n",
    "        self.rank = rank\n",
    "        \n",
    "        if rank == 'A':\n",
    "            self.value = 11\n",
    "            self.isAce = True\n",
    "        elif rank in ['J','Q','K']:\n",
    "            self.value = 10\n",
    "            self.isAce = False\n",
    "        else:\n",
    "            self.value = int(rank) # 2-10\n",
    "            self.isAce = False\n",
    "            \n",
    "        self.hidden = False # Dealer will have one card hidden from the player\n",
    "         \n",
    "    def __str__(self):\n",
    "        if self.hidden:\n",
    "            return str(tuple('X'))\n",
    "        else: \n",
    "            return str((self.suit, self.rank))\n",
    "    \n",
    "    def hideCard(self):\n",
    "        self.hidden = True\n",
    "        \n",
    "    def showCard(self):\n",
    "        self.hidden = False\n",
    "\n",
    "# Deck class keeps:\n",
    "    # cards - list of cards remaining in the deck\n",
    "class Deck(object):\n",
    "    \n",
    "    def __init__(self, nDecks = 1):\n",
    "        self.buildDeck(nDecks)\n",
    "        self.prepareDeck()\n",
    "    \n",
    "    def buildDeck(self, nDecks):\n",
    "        self.cards = [Card(suit,rank) for i in range(nDecks) for suit in SUITS for rank in RANKS]\n",
    "    \n",
    "    def prepareDeck(self):\n",
    "        for i in range(7):\n",
    "            self.shuffle()\n",
    "            \n",
    "    def shuffle(self):\n",
    "        random.shuffle(self.cards)\n",
    "        \n",
    "    def draw(self):\n",
    "        card = self.cards.pop(0)\n",
    "        return card\n",
    "    \n",
    "    def __len__(self):\n",
    "        return len(self.cards)\n",
    "    \n",
    "    def __str__(self):\n",
    "        return str([str(card) for card in self.cards])\n",
    "    \n",
    "# Hand class keeps\n",
    "    # hand - cards in the hand\n",
    "    # bet - the bet placed on the hand\n",
    "class Hand(object):\n",
    "    \n",
    "    def __init__(self, card = None, bet = 50):\n",
    "        self.aces = 0\n",
    "        if card:\n",
    "            self.cards = [card]\n",
    "        else:\n",
    "            self.cards= []\n",
    "        self.bet = bet\n",
    "        \n",
    "    def addCard(self, card):\n",
    "        self.cards.append(card)     \n",
    "            \n",
    "    def removeCard(self):\n",
    "        return self.cards.pop()\n",
    "    \n",
    "    def checkBust(self):\n",
    "        if self.value > 21:\n",
    "            return True\n",
    "        return False\n",
    "        \n",
    "    @property\n",
    "    def value(self):\n",
    "        value = sum(card.value for card in self.cards)\n",
    "        aces = sum(card.isAce for card in self.cards)  \n",
    "        # Aces are initially given a value of 11, they are ammended to 1 if the total valaue is > 21\n",
    "        while (value > 21) and aces: \n",
    "            value -= 10\n",
    "            aces -= 1\n",
    "        return value\n",
    "        \n",
    "    def __str__(self):\n",
    "        return str([str(card) for card in self.cards])\n",
    "        "
   ]
  },
  {
   "cell_type": "code",
   "execution_count": 135,
   "metadata": {},
   "outputs": [],
   "source": [
    "# Player class keeps:\n",
    "    # money\n",
    "    # hands\n",
    "class Player:\n",
    "    \n",
    "    def __init__(self, money = 5000):\n",
    "        self.money = money\n",
    "        self.hands = [Hand()]\n",
    "        \n",
    "    def showHands(self):\n",
    "        print(\"Player has %d hands: \\n\" % len(self.hands))\n",
    "        for hand in self.hands:\n",
    "            print(hand)\n",
    "        print()\n",
    "    \n",
    "    def stats(self):\n",
    "        print(\"Player has $%d left.\" % self.money)\n",
    "        # possible other stats later on\n",
    "        \n",
    "\n",
    "# Dealer class keeps:\n",
    "    # deck\n",
    "    # hand\n",
    "    # isBust\n",
    "class Dealer:\n",
    "    \n",
    "    def __init__(self, deck, Player):\n",
    "        self.deck = deck\n",
    "        self.hand = Hand()\n",
    "        self.Player = Player\n",
    "    \n",
    "    def deal(self):\n",
    "        for i in range(2): # deal each player, including the dealer, 2 cards\n",
    "            self.hand.addCard(self.deck.draw()) # Deal the dealer a card\n",
    "            if i == 0: # dealers first card is face down\n",
    "                self.hand.cards[0].hideCard() \n",
    "            self. Player.hands[0].addCard(self.deck.draw()) # Deal the player a card        \n",
    "        \n",
    "    def hit(self):\n",
    "        self.hand.addCard(self.deck.draw())\n",
    "            \n",
    "    def stand(self):\n",
    "        return self.hand\n",
    "    \n",
    "    def showHands(self):\n",
    "        print('Dealers Hand:')\n",
    "        print(self.hand)\n",
    "    \n",
    "    \n",
    "def validMoves():\n",
    "    return 0\n",
    "\n",
    "def makeMoves():\n",
    "    return 0"
   ]
  },
  {
   "cell_type": "code",
   "execution_count": 136,
   "metadata": {},
   "outputs": [],
   "source": [
    "class Blackjack:\n",
    "    \n",
    "    def __init__(self, Player):\n",
    "        self.Player = Player\n",
    "        self.Deck = Deck(6)\n",
    "        self.Dealer = Dealer(self.Deck, Player)\n",
    "        self.Dealer.deal()\n",
    "        \n",
    "    def newHand(self):\n",
    "        self.Player.hands = [Hand()]\n",
    "        self.Dealer.hand = Hand()\n",
    "        self.Dealer.deal()\n",
    "        \n",
    "    def newDeck(self):\n",
    "        self.Deck = Deck(6)\n",
    "       \n",
    "    # hand is player's hand\n",
    "    def gameStatus(self, hand):\n",
    "        # player bust\n",
    "        if hand.checkBust():\n",
    "            return -1\n",
    "        # dealer bust\n",
    "        if self.Dealer.hand.checkBust():\n",
    "            return 1\n",
    "        # draw\n",
    "        if hand.value == self.Dealer.hand.value:\n",
    "            return 0\n",
    "        # player win\n",
    "        if hand.value > self.Dealer.hand.value:\n",
    "            return 1\n",
    "        # dealer win\n",
    "        if hand.value < self.Dealer.hand.value:\n",
    "            return -1\n",
    "        "
   ]
  },
  {
   "cell_type": "code",
   "execution_count": null,
   "metadata": {
    "collapsed": true
   },
   "outputs": [],
   "source": []
  },
  {
   "cell_type": "markdown",
   "metadata": {},
   "source": [
    "## Testing"
   ]
  },
  {
   "cell_type": "code",
   "execution_count": 137,
   "metadata": {},
   "outputs": [
    {
     "name": "stdout",
     "output_type": "stream",
     "text": [
      "52\n",
      "[\"('heart', 'K')\", \"('spade', '2')\", \"('spade', 'K')\", \"('heart', '3')\", \"('club', '6')\", \"('club', 'J')\", \"('diamond', 'Q')\", \"('spade', 'Q')\", \"('heart', 'J')\", \"('heart', '9')\", \"('club', 'K')\", \"('spade', '6')\", \"('diamond', '8')\", \"('diamond', 'J')\", \"('diamond', 'A')\", \"('spade', '10')\", \"('club', '3')\", \"('club', '5')\", \"('heart', '5')\", \"('heart', '6')\", \"('club', '9')\", \"('diamond', '10')\", \"('diamond', '2')\", \"('club', 'Q')\", \"('diamond', '9')\", \"('heart', '2')\", \"('diamond', '5')\", \"('club', '2')\", \"('diamond', '7')\", \"('spade', '9')\", \"('spade', 'J')\", \"('heart', '4')\", \"('spade', '3')\", \"('heart', '10')\", \"('club', '7')\", \"('club', '8')\", \"('club', '10')\", \"('heart', '8')\", \"('club', '4')\", \"('diamond', 'K')\", \"('heart', '7')\", \"('heart', 'A')\", \"('club', 'A')\", \"('heart', 'Q')\", \"('spade', '7')\", \"('spade', '4')\", \"('diamond', '4')\", \"('spade', '5')\", \"('diamond', '3')\", \"('spade', '8')\", \"('spade', 'A')\", \"('diamond', '6')\"]\n",
      "('heart', 'K')\n",
      "('spade', '2')\n",
      "50\n"
     ]
    }
   ],
   "source": [
    "deck = Deck(1)\n",
    "print(len(deck))\n",
    "print(str(deck))\n",
    "print(str(deck.draw()))\n",
    "print(str(deck.draw()))\n",
    "print(len(deck))"
   ]
  },
  {
   "cell_type": "code",
   "execution_count": 138,
   "metadata": {},
   "outputs": [
    {
     "name": "stdout",
     "output_type": "stream",
     "text": [
      "156\n",
      "[\"('heart', 'Q')\"]\n",
      "[\"('heart', 'Q')\", \"('spade', '6')\"]\n",
      "[\"('heart', 'Q')\", \"('spade', '6')\", \"('heart', '4')\"]\n",
      "20\n"
     ]
    }
   ],
   "source": [
    "deck = Deck(3)\n",
    "print(len(deck))\n",
    "hand = Hand()\n",
    "hand.addCard(deck.draw())\n",
    "print(str(hand))\n",
    "hand.addCard(deck.draw())\n",
    "print(str(hand))\n",
    "hand.addCard(deck.draw())\n",
    "print(str(hand))\n",
    "print(str(hand.value))"
   ]
  },
  {
   "cell_type": "code",
   "execution_count": 161,
   "metadata": {},
   "outputs": [
    {
     "name": "stdout",
     "output_type": "stream",
     "text": [
      "308\n",
      "Player has 1 hands: \n",
      "\n",
      "[\"('spade', '8')\", \"('spade', 'J')\"]\n",
      "\n",
      "Dealers Hand:\n",
      "[\"('X',)\", \"('diamond', '6')\"]\n",
      "Dealers Hand:\n",
      "[\"('spade', 'A')\", \"('diamond', '6')\"]\n",
      "304\n",
      "Player has 1 hands: \n",
      "\n",
      "[\"('club', '5')\", \"('club', '6')\"]\n",
      "\n",
      "Dealers Hand:\n",
      "[\"('spade', '2')\", \"('heart', '3')\", \"('diamond', 'A')\"]\n",
      "312\n"
     ]
    }
   ],
   "source": [
    "player = Player()\n",
    "game = Blackjack(player)\n",
    "print(len(game.Deck))\n",
    "game.Player.showHands()\n",
    "game.Dealer.showHands()\n",
    "game.Dealer.hand.cards[0].showCard()\n",
    "game.Dealer.showHands()\n",
    "game.newHand()\n",
    "print(len(game.Deck))\n",
    "game.Player.showHands()\n",
    "game.Dealer.hand.cards[0].showCard()\n",
    "game.Dealer.hit()\n",
    "game.Dealer.showHands()\n",
    "game.newDeck()\n",
    "print(len(game.Deck))"
   ]
  },
  {
   "cell_type": "code",
   "execution_count": 162,
   "metadata": {},
   "outputs": [
    {
     "data": {
      "text/plain": [
       "-1"
      ]
     },
     "execution_count": 162,
     "metadata": {},
     "output_type": "execute_result"
    }
   ],
   "source": [
    "game.gameStatus(game.Player.hands[0])"
   ]
  },
  {
   "cell_type": "code",
   "execution_count": null,
   "metadata": {
    "collapsed": true
   },
   "outputs": [],
   "source": []
  },
  {
   "cell_type": "code",
   "execution_count": null,
   "metadata": {
    "collapsed": true
   },
   "outputs": [],
   "source": []
  }
 ],
 "metadata": {
  "kernelspec": {
   "display_name": "Python 3",
   "language": "python",
   "name": "python3"
  },
  "language_info": {
   "codemirror_mode": {
    "name": "ipython",
    "version": 3
   },
   "file_extension": ".py",
   "mimetype": "text/x-python",
   "name": "python",
   "nbconvert_exporter": "python",
   "pygments_lexer": "ipython3",
   "version": "3.6.1"
  }
 },
 "nbformat": 4,
 "nbformat_minor": 2
}
