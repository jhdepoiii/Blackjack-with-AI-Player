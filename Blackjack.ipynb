{
 "cells": [
  {
   "cell_type": "markdown",
   "metadata": {},
   "source": [
    "# Blackjack with AI player"
   ]
  },
  {
   "cell_type": "code",
   "execution_count": 265,
   "metadata": {
    "collapsed": true
   },
   "outputs": [],
   "source": [
    "import random"
   ]
  },
  {
   "cell_type": "code",
   "execution_count": 266,
   "metadata": {
    "collapsed": true
   },
   "outputs": [],
   "source": [
    "RANKS = ['2','3','4','5','6','7','8','9','10','J','Q','K','A']\n",
    "\n",
    "# Card class keeps:\n",
    "    # rank - The rank of the card [2,3,4,5,6,7,8,9,10,J,Q,K,A]\n",
    "    # value - The point value associated with the rank\n",
    "    # isAce - True if the card is an Ace\n",
    "class Card(object):\n",
    "    \n",
    "    def __init__(self, rank = None):\n",
    "        self.rank = rank\n",
    "        \n",
    "        if not rank: # null card\n",
    "            self.value = 0\n",
    "            self.isAce = False\n",
    "            return\n",
    "        elif rank == 'A':\n",
    "            self.value = 11\n",
    "            self.isAce = True\n",
    "        elif rank in ['J','Q','K']:\n",
    "            self.value = 10\n",
    "            self.isAce = False\n",
    "        else:\n",
    "            self.value = int(rank) # 2-10\n",
    "            self.isAce = False\n",
    "         \n",
    "    def __str__(self):\n",
    "        return str(self.rank)\n",
    "    \n",
    "    def __eq__(self, card):\n",
    "        return self.value == card.value\n",
    "\n",
    "\n",
    "# Deck class keeps:\n",
    "    # cards - list of cards remaining in the deck\n",
    "class Deck(object):\n",
    "    \n",
    "    def __init__(self, nDecks = 1):\n",
    "        self.cards = []\n",
    "        self.buildDeck(nDecks)\n",
    "        self.prepareDeck()\n",
    "    \n",
    "    def buildDeck(self, nDecks):\n",
    "        for i in range(nDecks):\n",
    "            for j in range(4): # 4 of each card per deck\n",
    "                for rank in RANKS:\n",
    "                    self.cards.append(Card(rank))\n",
    "    \n",
    "    def prepareDeck(self):\n",
    "        for i in range(7):\n",
    "            self.shuffle()\n",
    "            \n",
    "    def shuffle(self):\n",
    "        random.shuffle(self.cards)\n",
    "        \n",
    "    def draw(self):\n",
    "        card = self.cards.pop(0)\n",
    "        return card\n",
    "    \n",
    "    def __len__(self):\n",
    "        return len(self.cards)\n",
    "    \n",
    "    def __str__(self):\n",
    "        return str([str(card) for card in self.cards])\n",
    "    \n",
    "# Hand class keeps\n",
    "    # hand - cards in the hand\n",
    "    # bet - the bet placed on the hand\n",
    "class Hand(object):\n",
    "    \n",
    "    def __init__(self, card = None, bet = 50):\n",
    "        self.bet = bet\n",
    "        self.cards = []\n",
    "        if card:\n",
    "            self.cards.append(card)\n",
    "        \n",
    "    def addCard(self, card):\n",
    "        self.cards.append(card)     \n",
    "            \n",
    "    def removeCard(self):\n",
    "        return self.cards.pop()\n",
    "    \n",
    "    def isBust(self):\n",
    "        if self.value > 21:\n",
    "            return True\n",
    "        return False\n",
    "    \n",
    "    def isBlackjack(self):\n",
    "        if len(self.cards) == 2:\n",
    "            if self.value == 21:\n",
    "                return True\n",
    "        return False\n",
    "        \n",
    "    def calculateValue(self, prop = 'value'):\n",
    "        value = sum(card.value for card in self.cards)\n",
    "        aces = sum(card.isAce for card in self.cards)  \n",
    "        # Aces are initially given a value of 11, they are ammended to 1 if the total valaue is > 21\n",
    "        while (value > 21) and aces: \n",
    "            value -= 10\n",
    "            aces -= 1\n",
    "        if (prop == 'aces'):\n",
    "            return aces\n",
    "        return value\n",
    "        \n",
    "    @property\n",
    "    def value(self):\n",
    "        return self.calculateValue()\n",
    "    \n",
    "    @property\n",
    "    def soft(self):\n",
    "        if self.calculateValue('aces'):\n",
    "            return True\n",
    "        return False\n",
    "              \n",
    "    def __len__(self):\n",
    "        return len(self.cards)\n",
    "    \n",
    "    def __str__(self):\n",
    "        return str([str(card) for card in self.cards])\n",
    "        "
   ]
  },
  {
   "cell_type": "markdown",
   "metadata": {},
   "source": [
    "#### Testing Card, Deck, and Hand"
   ]
  },
  {
   "cell_type": "code",
   "execution_count": 267,
   "metadata": {},
   "outputs": [
    {
     "name": "stdout",
     "output_type": "stream",
     "text": [
      "All tests passed\n"
     ]
    }
   ],
   "source": [
    "ace = Card('A')\n",
    "king = Card('K')\n",
    "queen = Card('Q')\n",
    "jack = Card('J')\n",
    "ten = Card('10')\n",
    "nine = Card('9')\n",
    "eight = Card('8')\n",
    "seven = Card('7')\n",
    "six = Card('6')\n",
    "five = Card('5')\n",
    "four = Card('4')\n",
    "three = Card('3')\n",
    "two = Card('2')\n",
    "noCard = Card()\n",
    "passed = 0\n",
    "\n",
    "# Test A,K,Q,9,4\n",
    "if ace.value == 11:\n",
    "    if ace.rank == 'A':\n",
    "        passed += 1\n",
    "if king.value == 10:\n",
    "    if king.rank == 'K':\n",
    "        passed += 1\n",
    "if queen.value == 10:\n",
    "    if queen.rank == 'Q':\n",
    "        passed += 1\n",
    "if four.value == 4:\n",
    "    if four.rank == '4':\n",
    "        passed += 1\n",
    "if nine.value == 9:\n",
    "    if nine.rank == '9':\n",
    "        passed += 1\n",
    "if noCard.value == 0:\n",
    "        passed += 1\n",
    "\n",
    "# Test Equality and Inequality\n",
    "if king == queen:\n",
    "    passed += 1 \n",
    "if not king == nine:\n",
    "    passed += 1\n",
    "    \n",
    "# All Tests\n",
    "if passed == 8:\n",
    "    print('All tests passed')\n",
    "else:\n",
    "    print(str(8-passed) + ' tests failed')"
   ]
  },
  {
   "cell_type": "code",
   "execution_count": 268,
   "metadata": {},
   "outputs": [
    {
     "name": "stdout",
     "output_type": "stream",
     "text": [
      "All tests passed\n"
     ]
    }
   ],
   "source": [
    "passed = 0\n",
    "deck = Deck(1)\n",
    "\n",
    "# Testing creating a deck and drawing cards from the deck\n",
    "if len(deck) == 52:\n",
    "    passed += 1\n",
    "for i in range(5):\n",
    "    deck.draw()\n",
    "if len(deck) == 47:\n",
    "    passed +=1\n",
    "deck = Deck(6)\n",
    "if len(deck) == 312:\n",
    "    passed += 1\n",
    "if passed == 3:\n",
    "    print('All tests passed')\n",
    "else:\n",
    "    print(str(3-passed) + ' tests failed')"
   ]
  },
  {
   "cell_type": "code",
   "execution_count": 269,
   "metadata": {},
   "outputs": [
    {
     "name": "stdout",
     "output_type": "stream",
     "text": [
      "All tests passed\n"
     ]
    }
   ],
   "source": [
    "hand = Hand()\n",
    "passed = 0\n",
    "\n",
    "# Test empty hand\n",
    "if len(hand) == 0:\n",
    "    passed += 1\n",
    "    \n",
    "# Test hand.addCard()\n",
    "hand.addCard(ace)\n",
    "if len(hand) == 1:\n",
    "    passed += 1\n",
    "hand.addCard(nine)\n",
    "if len(hand) == 2:\n",
    "    passed += 1\n",
    "    \n",
    "# Test hand.isBust()\n",
    "if not hand.isBust(): # no bust\n",
    "    passed += 1\n",
    "hand.addCard(king)\n",
    "if not hand.isBust(): # no bust\n",
    "    passed += 1\n",
    "hand.addCard(ace)\n",
    "hand.addCard(ace)\n",
    "if hand.isBust():\n",
    "    passed += 1\n",
    "\n",
    "# Test hand.isBlackjack()\n",
    "if not hand.isBlackjack(): # no Blackjack\n",
    "    passed += 1\n",
    "hand = Hand(ace)\n",
    "hand.addCard(king)\n",
    "if hand.isBlackjack(): # Blackjack\n",
    "    passed += 1\n",
    "hand = Hand(king)\n",
    "hand.addCard(king)\n",
    "if not hand.isBlackjack(): # no blackjack\n",
    "    passed += 1\n",
    "       \n",
    "# Test hand.removeCard and hand.value\n",
    "hand.removeCard()\n",
    "hand.addCard(nine)\n",
    "if hand.value == 19:\n",
    "    passed += 1\n",
    "\n",
    "if passed == 10:\n",
    "    print('All tests passed')\n",
    "else:\n",
    "    print(str(10-passed) + ' tests failed')"
   ]
  },
  {
   "cell_type": "markdown",
   "metadata": {},
   "source": [
    "## Player and Dealer"
   ]
  },
  {
   "cell_type": "code",
   "execution_count": 270,
   "metadata": {},
   "outputs": [],
   "source": [
    "# Player class keeps:\n",
    "    # money\n",
    "    # hands\n",
    "class Player:\n",
    "    \n",
    "    def __init__(self, money = 5000, bet = 50):\n",
    "        self.money = money\n",
    "        self.betAmount = bet\n",
    "        self.bets = []\n",
    "        self.hands = [Hand()]\n",
    "        \n",
    "    def makeBet(self, handNumber):\n",
    "        if handNumber >= len(self.bets): # new hand gets a new bet\n",
    "            self.bets.append(self.betAmount)\n",
    "        else: # double the bet\n",
    "            self.bets[handNumber] += self.betAmount\n",
    "        # remove the bet amount from players money\n",
    "        self.money -= self.betAmount\n",
    "            \n",
    "    # True if player has enough money to make a bet, False otherwise\n",
    "    def hasMoney(self):\n",
    "        return self.money > self.betAmount\n",
    "        \n",
    "    def hit(self, handNumber, card):\n",
    "        self.hands[handNumber].addCard(card)\n",
    "\n",
    "    def doubleDown(self, handNumber, card):\n",
    "        self.hit(handNumber, card)\n",
    "        self.makeBet(handNumber)\n",
    "\n",
    "    def split(self, handNumber, cards):\n",
    "        newHand = Hand()\n",
    "        # remove one card from the hand being split and add to newHand\n",
    "        newHand.addCard(self.hands[handNumber].removeCard())\n",
    "        # add a second card to the old hand\n",
    "        self.hands[handNumber].addCard(cards[0])  \n",
    "        # add a second card to the new hand\n",
    "        newHand.addCard(cards[1])\n",
    "        # append newHand to players Hands and add bet for the hand\n",
    "        self.hands.append(newHand)\n",
    "        self.makeBet(len(self.hands)-1) # make a new bet for the new hand\n",
    "        \n",
    "    def showHands(self):\n",
    "        print(\"Player has %d hands: \\n\" % len(self.hands))\n",
    "        for hand in self.hands:\n",
    "            print(hand)\n",
    "        print()        \n",
    "\n",
    "# Dealer class keeps:\n",
    "    # deck\n",
    "    # hand\n",
    "    # isBust\n",
    "class Dealer:\n",
    "    \n",
    "    def __init__(self, deck, Player):\n",
    "        self.deck = deck\n",
    "        self.hand = Hand()\n",
    "        self.player = Player\n",
    "    \n",
    "    def deal(self):\n",
    "        for i in range(2): # deal each player, including the dealer, 2 cards\n",
    "            self.hand.addCard(self.deck.draw()) # Deal the dealer a card\n",
    "            self.player.hands[0].addCard(self.deck.draw()) # Deal the player a card   \n",
    "        self.player.makeBet(0) # player makes a bet on hand\n",
    "       \n",
    "    def play(self):\n",
    "        while self.hand.value <= 17: # hits until they have 17\n",
    "            # if soft 17, dealer must hit\n",
    "            if self.hand.value == 17:\n",
    "                if self.hand.soft:\n",
    "                    self.hit()\n",
    "                else:\n",
    "                    break\n",
    "            # less than 17, must hit\n",
    "            else:\n",
    "                self.hit()\n",
    "                      \n",
    "    def hit(self):\n",
    "        self.hand.addCard(self.deck.draw())\n",
    "            \n",
    "    def stand(self):\n",
    "        return self.hand\n",
    "    \n",
    "    def showHands(self):\n",
    "        print('Dealers Hand:')\n",
    "        print(self.hand)"
   ]
  },
  {
   "cell_type": "markdown",
   "metadata": {},
   "source": [
    "#### Test Player and Dealer"
   ]
  },
  {
   "cell_type": "code",
   "execution_count": 271,
   "metadata": {},
   "outputs": [
    {
     "name": "stdout",
     "output_type": "stream",
     "text": [
      "All tests passed\n"
     ]
    }
   ],
   "source": [
    "passed = 0\n",
    "\n",
    "# Test constructor\n",
    "player = Player()\n",
    "if len(player.hands[0]) == 0:\n",
    "    passed += 1\n",
    "    \n",
    "# Test Player.makeBet()\n",
    "player.makeBet(0)\n",
    "if player.money == 4950:\n",
    "    if player.bets[0] == 50:\n",
    "        passed += 1\n",
    "        \n",
    "# Test Player.hasMoney()\n",
    "if player.hasMoney():\n",
    "    passed += 1\n",
    "player.money = 0\n",
    "if not player.hasMoney():\n",
    "    passed += 1\n",
    "player.money = 4950\n",
    "    \n",
    "# Tests passed\n",
    "if passed == 4:\n",
    "    print('All tests passed')\n",
    "else:\n",
    "    print(str(4-passed) + ' tests failed')"
   ]
  },
  {
   "cell_type": "code",
   "execution_count": 272,
   "metadata": {},
   "outputs": [
    {
     "name": "stdout",
     "output_type": "stream",
     "text": [
      "All tests passed\n"
     ]
    }
   ],
   "source": [
    "passed = 0\n",
    "player = Player()\n",
    "deck = Deck()\n",
    "dealer = Dealer(deck, player)\n",
    "\n",
    "# Test instantiation\n",
    "if len(dealer.deck) == 52:\n",
    "    passed += 1\n",
    "if len(dealer.player.hands[0]) == 0:\n",
    "    passed += 1\n",
    "if len(dealer.hand) == 0:\n",
    "    passed += 1\n",
    "    \n",
    "# Test dealer.deal()\n",
    "dealer.deal()\n",
    "if len(dealer.player.hands[0]) == 2:\n",
    "    passed += 1\n",
    "if len(dealer.hand) == 2:\n",
    "    passed += 1\n",
    "if len(dealer.deck) == 48:\n",
    "    passed += 1\n",
    "    \n",
    "# Test dealer.hit()\n",
    "dealer.hit()\n",
    "if len(dealer.hand) == 3:\n",
    "    passed += 1\n",
    "if len(dealer.deck) == 47:\n",
    "    passed += 1\n",
    "    \n",
    "# Test dealer.play()\n",
    "deck = Deck()\n",
    "player = Player()\n",
    "dealer = Dealer(deck, player)\n",
    "dealer.hand.addCard(ace)\n",
    "dealer.hand.addCard(six)\n",
    "dealer.play()\n",
    "if len(dealer.hand) > 2:\n",
    "    passed += 1\n",
    "dealer.play()\n",
    "if len(dealer.hand) > 2:\n",
    "    passed += 1\n",
    "dealer.play()\n",
    "if len(dealer.hand) > 2:\n",
    "    passed += 1\n",
    "    \n",
    "# Tests passed\n",
    "if passed == 11:\n",
    "    print('All tests passed')\n",
    "else:\n",
    "    print(str(11-passed) + ' tests failed')"
   ]
  },
  {
   "cell_type": "markdown",
   "metadata": {},
   "source": [
    "## Valid Moves and Make"
   ]
  },
  {
   "cell_type": "code",
   "execution_count": 273,
   "metadata": {
    "collapsed": true
   },
   "outputs": [],
   "source": [
    "# returns a list of valid moves for a hand\n",
    "def validMoves(player, handNumber):\n",
    "    moves = ['hit','stand']\n",
    "    # check that hand has 2 cards and the player has money to make a bet\n",
    "    if len(player.hands[handNumber].cards) == 2:\n",
    "        if player.hasMoney(): \n",
    "            moves.append('doubleDown')\n",
    "            if player.hands[handNumber].cards[0] == player.hands[handNumber].cards[1]: # compare ranks same\n",
    "                moves.append('split')\n",
    "            \n",
    "    return moves\n",
    "    \n",
    "def makeMove(game, handNumber, move):\n",
    "    if move == 'hit':\n",
    "        game.player.hit(handNumber, game.deck.draw())\n",
    "        return False\n",
    "    elif move == 'split':\n",
    "        game.player.split(handNumber, [game.deck.draw(), game.deck.draw()])\n",
    "        return False\n",
    "    elif move == 'doubleDown':\n",
    "        game.player.doubleDown(handNumber, game.deck.draw())\n",
    "        return True\n",
    "    else:\n",
    "        return True\n",
    "        \n"
   ]
  },
  {
   "cell_type": "markdown",
   "metadata": {},
   "source": [
    "#### Testing ValidMoves and MakeMove"
   ]
  },
  {
   "cell_type": "code",
   "execution_count": 274,
   "metadata": {},
   "outputs": [
    {
     "name": "stdout",
     "output_type": "stream",
     "text": [
      "All moves valid: passed\n",
      "No Money moves valid: passed\n",
      "No split moves valid: passed\n",
      "Basic moves 3 cards valid: passed\n",
      "Split moves valid: passed\n"
     ]
    }
   ],
   "source": [
    "# Testing valid Moves\n",
    "player = Player()\n",
    "player.hands[0].addCard(king)\n",
    "player.hands[0].addCard(king)\n",
    "\n",
    "# check all moves are avilable\n",
    "moves = validMoves(player, 0)\n",
    "if moves == ['hit','stand','doubleDown','split']:\n",
    "    print('All moves valid: passed')\n",
    "else:\n",
    "    print('All moves valid: failed')\n",
    "    print(moves)\n",
    "    \n",
    "# check no money moves\n",
    "player = Player(0)\n",
    "player.hands[0].addCard(king)\n",
    "player.hands[0].addCard(king)\n",
    "moves = validMoves(player, 0)\n",
    "if moves == ['hit','stand']:\n",
    "    print('No Money moves valid: passed')\n",
    "else:\n",
    "    print('No Money moves valid: failed')\n",
    "    print(moves)\n",
    "    \n",
    "# check no split moves\n",
    "player = Player()\n",
    "player.hands[0].addCard(king)\n",
    "player.hands[0].addCard(five)\n",
    "moves = validMoves(player, 0)\n",
    "if moves == ['hit','stand', 'doubleDown']:\n",
    "    print('No split moves valid: passed')\n",
    "else:\n",
    "    print('No split moves valid: failed')\n",
    "    print(moves)\n",
    "    \n",
    "# check basics - more than 2 cards\n",
    "player = Player()\n",
    "player.hands[0].addCard(king)\n",
    "player.hands[0].addCard(five)\n",
    "player.hands[0].addCard(four)\n",
    "moves = validMoves(player, 0)\n",
    "if moves == ['hit','stand']:\n",
    "    print('Basic moves 3 cards valid: passed')\n",
    "else:\n",
    "    print('Basic moves 3 valid: failed')\n",
    "    print(moves)\n",
    "    \n",
    "# check split moves\n",
    "player = Player()\n",
    "player.hands[0].addCard(five)\n",
    "player.hands[0].addCard(five)\n",
    "moves = validMoves(player, 0)\n",
    "if moves == ['hit','stand', 'doubleDown', 'split']:\n",
    "    print('Split moves valid: passed')\n",
    "else:\n",
    "    print('Split moves valid: failed')\n",
    "    print(moves)"
   ]
  },
  {
   "cell_type": "code",
   "execution_count": 275,
   "metadata": {},
   "outputs": [
    {
     "name": "stdout",
     "output_type": "stream",
     "text": [
      "split move: passed\n",
      "doubleDown move: passed\n",
      "hit move: passed\n"
     ]
    }
   ],
   "source": [
    "player = Player()\n",
    "\n",
    "# Test Split\n",
    "player.hands[0].addCard(king)\n",
    "player.hands[0].addCard(king)\n",
    "player.bets.append(player.betAmount)\n",
    "player.split(0, [five, two])\n",
    "if player.hands[0].cards == [king, five]:   \n",
    "    if player.hands[1].cards == [king, two]:\n",
    "        if player.bets == [50,50]:\n",
    "            print('split move: passed')\n",
    "        else:\n",
    "            print('split move: failed')\n",
    "    else:\n",
    "        print('split move: failed')\n",
    "else:\n",
    "    print('split move: failed')\n",
    "    \n",
    "# Test doubleDown\n",
    "player = Player()\n",
    "player.hands[0].addCard(king)\n",
    "player.hands[0].addCard(two)\n",
    "player.makeBet(0)\n",
    "player.doubleDown(0, ten)\n",
    "if player.hands[0].cards == [king, two, ten]:\n",
    "    if player.bets == [100]:\n",
    "        print('doubleDown move: passed')\n",
    "    else:\n",
    "        print('doubleDown move: failed')\n",
    "else:\n",
    "    print('doubleDown move: failed')\n",
    "    \n",
    "# Test hit\n",
    "player.hit(0, ace)\n",
    "if player.hands[0].cards == [king, two, ten, ace]:\n",
    "    print('hit move: passed')\n",
    "else:\n",
    "    print('hit move: failed')    "
   ]
  },
  {
   "cell_type": "markdown",
   "metadata": {},
   "source": [
    "## Blackjack Game"
   ]
  },
  {
   "cell_type": "code",
   "execution_count": 276,
   "metadata": {
    "collapsed": true
   },
   "outputs": [],
   "source": [
    "class Blackjack:\n",
    "    \n",
    "    def __init__(self, Player):\n",
    "        self.player = Player\n",
    "        self.deck = Deck(6)\n",
    "        self.dealer = Dealer(self.deck, player) # Remember, dealer holds the deck and deals, not the game\n",
    "        self.dealer.deal()\n",
    "        \n",
    "    def newHand(self):\n",
    "        self.player.hands = [Hand()]\n",
    "        self.player.bets = []\n",
    "        self.dealer.hand = Hand()\n",
    "        self.dealer.deal()\n",
    "        \n",
    "    def newDeck(self):\n",
    "        self.dealer.deck = Deck(6)\n",
    "       \n",
    "    # hand is player's hand\n",
    "    def gameStatus(self, hand):\n",
    "        # player bust\n",
    "        if hand.checkBust():\n",
    "            return -1\n",
    "        # dealer bust\n",
    "        if self.Dealer.hand.checkBust():\n",
    "            return 1\n",
    "        # draw\n",
    "        if hand.value == self.Dealer.hand.value:\n",
    "            return 0\n",
    "        # player win\n",
    "        if hand.value > self.Dealer.hand.value:\n",
    "            return 1\n",
    "        # dealer win\n",
    "        if hand.value < self.Dealer.hand.value:\n",
    "            return -1\n",
    "        "
   ]
  },
  {
   "cell_type": "markdown",
   "metadata": {},
   "source": [
    "#### Test Blackjack"
   ]
  },
  {
   "cell_type": "code",
   "execution_count": 277,
   "metadata": {},
   "outputs": [
    {
     "name": "stdout",
     "output_type": "stream",
     "text": [
      "All tests passed\n"
     ]
    }
   ],
   "source": [
    "player = Player()\n",
    "game = Blackjack(player)\n",
    "passed = 0\n",
    "\n",
    "def testBlackjack(game, decksize, money):\n",
    "    passed = 0\n",
    "    # Test player dealt correct number of cards, makes bet, and loses money coorectly\n",
    "    if len(game.player.hands) == 1:\n",
    "        if len(game.player.hands[0].cards) == 2:\n",
    "            passed += 1\n",
    "    if len(game.player.bets) == 1:\n",
    "        if game.player.bets[0] == 50:\n",
    "            passed += 1\n",
    "    if game.player.money == money:\n",
    "        passed += 1\n",
    "    # Test dealer dealt correct number of cards\n",
    "    if len(game.dealer.hand.cards) == 2:\n",
    "        passed += 1\n",
    "    # Test deck dealt correctly\n",
    "    if len(game.dealer.deck) == decksize:\n",
    "        passed += 1\n",
    "    return passed\n",
    "\n",
    "# Test initialization\n",
    "passed += testBlackjack(game, 308, 4950)\n",
    "# Test new hand\n",
    "game.newHand()\n",
    "passed += testBlackjack(game, 304, 4900)\n",
    "# Test new deck\n",
    "game.newDeck()\n",
    "passed += testBlackjack(game, 312, 4900)\n",
    "\n",
    "# Tests passed\n",
    "if passed == 15:\n",
    "    print('All tests passed')\n",
    "else:\n",
    "    print(str(15-passed) + ' tests failed')"
   ]
  },
  {
   "cell_type": "markdown",
   "metadata": {},
   "source": [
    "## TrainQ"
   ]
  },
  {
   "cell_type": "code",
   "execution_count": 278,
   "metadata": {
    "collapsed": true
   },
   "outputs": [],
   "source": [
    "import random\n",
    "\n",
    "# determines if a greedy move should be taken\n",
    "def epsilonGreedy (epsilon, Q, player, handNumber, validMovesF):\n",
    "    validMoves = validMovesF(player, handNumber)\n",
    "    \n",
    "    if np.random.uniform() < epsilon: # Random choice\n",
    "        return random.choice(validMoves)\n",
    "    else: # Greedy choice\n",
    "        # Please Stand By - In Progress\n",
    "        return 0"
   ]
  },
  {
   "cell_type": "code",
   "execution_count": 279,
   "metadata": {
    "collapsed": true
   },
   "outputs": [],
   "source": [
    "import numpy as np\n",
    "\n",
    "def trainQ(nRepetitions, learningRate, epsilonDecayRate, validMovesF, makeMoveF):\n",
    "    epsilon = 1.0\n",
    "    \n",
    "    Q = {}\n",
    "    outcomes = np.zeros(nRepetitions)\n",
    "    epsilons = np.zeros(nRepetitions)\n",
    "    \n",
    "    for gameNum in range(nRepetitions):\n",
    "        epsilon *= epsilonDecayRate  # decay epsilon to move away from random choices\n",
    "        epsilons[gameNum] = epsilon\n",
    "        \n",
    "        # create a game\n",
    "        player = Player()\n",
    "        blackjack = Blackjack(player)\n",
    "        \n",
    "        done = False\n",
    "        \n",
    "        # play some blackjack\n",
    "        while len(blackjack.Deck) >  52: # deck is 6 decks, last deck is a buffer deck\n",
    "            if blackjack.player.hasMoney(): # make sure player has the funds to play\n",
    "                blackjack.newHand() # deal a hand\n",
    "                handNumber = 0\n",
    "            \n",
    "                # For each players hand\n",
    "                while handNumber < len(blackjack.player.hands):\n",
    "                    done = False\n",
    "                \n",
    "                    # Player plays until they stand or bust\n",
    "                    while not done:\n",
    "                        # Determine a move for the players hand\n",
    "                        move = epsilonGreedy(epsilon, Q, blackjack.player, handNumber, validMovesF)\n",
    "                        \n",
    "                        # make a move on the hand, done if double down or stand\n",
    "                        done = makeMoveF(blackjack, handNumber, move)\n",
    "                        \n",
    "                        # check if bust\n",
    "                        if blackjack.player.hands[handNumber].checkBust():\n",
    "                            done = True\n",
    "                            \n",
    "                    handNumber += 1 # next hand\n",
    "            else:\n",
    "                break # player doesn't have the funds, game over \n",
    "        \n",
    "        ### After Player plays all his hands dealer plays\n",
    "        ### After Dealer plays all player hands are checked\n",
    "            # payout on wins\n",
    "            \n",
    "        \n",
    "    \n",
    "    # need to add Q table stuff\n",
    "        # whats my key? my cards or total value of cards?\n",
    "        # how will i keep track of hands?\n",
    "            # list of moves\n",
    "            # each hand that leads to a win or loss or draw gets a value\n",
    "    # greedy choice\n",
    "    # payout on wins (game)\n",
    "    \n",
    "    # re-test valid moves\n",
    "        # updated to include player has the funds required"
   ]
  },
  {
   "cell_type": "markdown",
   "metadata": {},
   "source": [
    "## Testing"
   ]
  },
  {
   "cell_type": "code",
   "execution_count": 280,
   "metadata": {},
   "outputs": [
    {
     "name": "stdout",
     "output_type": "stream",
     "text": [
      "52\n",
      "['Q', 'A', '2', '3', '4', 'J', '8', '9', 'A', 'K', '8', '9', '4', '7', '10', '5', '9', 'J', '3', '4', '6', '2', '5', 'K', '4', '6', '10', '3', 'A', '8', '9', '8', '5', 'K', '7', 'Q', 'J', '2', '5', '10', '10', 'Q', '7', '3', '6', '7', 'J', 'Q', '2', 'K', 'A', '6']\n",
      "Q\n",
      "A\n",
      "50\n"
     ]
    }
   ],
   "source": [
    "deck = Deck(1)\n",
    "print(len(deck))\n",
    "print(str(deck))\n",
    "print(str(deck.draw()))\n",
    "print(str(deck.draw()))\n",
    "print(len(deck))"
   ]
  },
  {
   "cell_type": "code",
   "execution_count": 281,
   "metadata": {},
   "outputs": [
    {
     "name": "stdout",
     "output_type": "stream",
     "text": [
      "156\n",
      "['3']\n",
      "['3', '8']\n",
      "['3', '8', '5']\n",
      "16\n"
     ]
    }
   ],
   "source": [
    "deck = Deck(3)\n",
    "print(len(deck))\n",
    "hand = Hand()\n",
    "hand.addCard(deck.draw())\n",
    "print(str(hand))\n",
    "hand.addCard(deck.draw())\n",
    "print(str(hand))\n",
    "hand.addCard(deck.draw())\n",
    "print(str(hand))\n",
    "print(str(hand.value))"
   ]
  },
  {
   "cell_type": "code",
   "execution_count": 282,
   "metadata": {},
   "outputs": [
    {
     "ename": "AttributeError",
     "evalue": "'Blackjack' object has no attribute 'Deck'",
     "output_type": "error",
     "traceback": [
      "\u001b[1;31m---------------------------------------------------------------------------\u001b[0m",
      "\u001b[1;31mAttributeError\u001b[0m                            Traceback (most recent call last)",
      "\u001b[1;32m<ipython-input-282-49e4b5ccf266>\u001b[0m in \u001b[0;36m<module>\u001b[1;34m()\u001b[0m\n\u001b[0;32m      1\u001b[0m \u001b[0mplayer\u001b[0m \u001b[1;33m=\u001b[0m \u001b[0mPlayer\u001b[0m\u001b[1;33m(\u001b[0m\u001b[1;33m)\u001b[0m\u001b[1;33m\u001b[0m\u001b[0m\n\u001b[0;32m      2\u001b[0m \u001b[0mgame\u001b[0m \u001b[1;33m=\u001b[0m \u001b[0mBlackjack\u001b[0m\u001b[1;33m(\u001b[0m\u001b[0mplayer\u001b[0m\u001b[1;33m)\u001b[0m\u001b[1;33m\u001b[0m\u001b[0m\n\u001b[1;32m----> 3\u001b[1;33m \u001b[0mprint\u001b[0m\u001b[1;33m(\u001b[0m\u001b[0mlen\u001b[0m\u001b[1;33m(\u001b[0m\u001b[0mgame\u001b[0m\u001b[1;33m.\u001b[0m\u001b[0mDeck\u001b[0m\u001b[1;33m)\u001b[0m\u001b[1;33m)\u001b[0m\u001b[1;33m\u001b[0m\u001b[0m\n\u001b[0m\u001b[0;32m      4\u001b[0m \u001b[0mgame\u001b[0m\u001b[1;33m.\u001b[0m\u001b[0mPlayer\u001b[0m\u001b[1;33m.\u001b[0m\u001b[0mshowHands\u001b[0m\u001b[1;33m(\u001b[0m\u001b[1;33m)\u001b[0m\u001b[1;33m\u001b[0m\u001b[0m\n\u001b[0;32m      5\u001b[0m \u001b[0mgame\u001b[0m\u001b[1;33m.\u001b[0m\u001b[0mDealer\u001b[0m\u001b[1;33m.\u001b[0m\u001b[0mshowHands\u001b[0m\u001b[1;33m(\u001b[0m\u001b[1;33m)\u001b[0m\u001b[1;33m\u001b[0m\u001b[0m\n",
      "\u001b[1;31mAttributeError\u001b[0m: 'Blackjack' object has no attribute 'Deck'"
     ]
    }
   ],
   "source": [
    "player = Player()\n",
    "game = Blackjack(player)\n",
    "print(len(game.Deck))\n",
    "game.Player.showHands()\n",
    "game.Dealer.showHands()\n",
    "game.Dealer.hand.cards[0].showCard()\n",
    "game.Dealer.showHands()\n",
    "game.newHand()\n",
    "print(len(game.Deck))\n",
    "game.Player.showHands()\n",
    "game.Dealer.hand.cards[0].showCard()\n",
    "game.Dealer.hit()\n",
    "game.Dealer.showHands()\n",
    "game.newDeck()\n",
    "print(len(game.Deck))"
   ]
  },
  {
   "cell_type": "code",
   "execution_count": null,
   "metadata": {
    "collapsed": true
   },
   "outputs": [],
   "source": [
    "game.gameStatus(game.Player.hands[0])"
   ]
  },
  {
   "cell_type": "markdown",
   "metadata": {},
   "source": [
    "#### Testing validMoves and makeMove"
   ]
  },
  {
   "cell_type": "code",
   "execution_count": null,
   "metadata": {
    "collapsed": true
   },
   "outputs": [],
   "source": []
  },
  {
   "cell_type": "code",
   "execution_count": null,
   "metadata": {
    "collapsed": true
   },
   "outputs": [],
   "source": []
  }
 ],
 "metadata": {
  "kernelspec": {
   "display_name": "Python 3",
   "language": "python",
   "name": "python3"
  },
  "language_info": {
   "codemirror_mode": {
    "name": "ipython",
    "version": 3
   },
   "file_extension": ".py",
   "mimetype": "text/x-python",
   "name": "python",
   "nbconvert_exporter": "python",
   "pygments_lexer": "ipython3",
   "version": "3.6.1"
  }
 },
 "nbformat": 4,
 "nbformat_minor": 2
}
