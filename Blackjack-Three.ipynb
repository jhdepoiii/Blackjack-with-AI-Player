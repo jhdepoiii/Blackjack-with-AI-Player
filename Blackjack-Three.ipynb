{
 "cells": [
  {
   "cell_type": "markdown",
   "metadata": {},
   "source": [
    "# Blackjack with AI player"
   ]
  },
  {
   "cell_type": "code",
   "execution_count": 264,
   "metadata": {
    "collapsed": true
   },
   "outputs": [],
   "source": [
    "import random"
   ]
  },
  {
   "cell_type": "code",
   "execution_count": 265,
   "metadata": {},
   "outputs": [],
   "source": [
    "RANKS = ['2','3','4','5','6','7','8','9','10','J','Q','K','A']\n",
    "\n",
    "# Card class keeps:\n",
    "    # rank - The rank of the card [2,3,4,5,6,7,8,9,10,J,Q,K,A]\n",
    "    # value - The point value associated with the rank\n",
    "    # isAce - True if the card is an Ace\n",
    "class Card(object):\n",
    "    \n",
    "    def __init__(self, rank = None):\n",
    "        self.rank = rank\n",
    "        \n",
    "        if not rank: # null card\n",
    "            self.value = 0\n",
    "            self.isAce = False\n",
    "            return\n",
    "        elif rank == 'A':\n",
    "            self.value = 11\n",
    "            self.isAce = True\n",
    "        elif rank in ['J','Q','K']:\n",
    "            self.value = 10\n",
    "            self.isAce = False\n",
    "        else:\n",
    "            self.value = int(rank) # 2-10\n",
    "            self.isAce = False\n",
    "            \n",
    "    def __str__(self):\n",
    "        return self.rank\n",
    "    \n",
    "    def __eq__(self, card):\n",
    "        return self.value == card.value\n",
    "    \n",
    "    def __repr__(self):\n",
    "        return self.rank\n",
    "\n",
    "\n",
    "# Deck class keeps:\n",
    "    # cards - list of cards remaining in the deck\n",
    "class Deck(object):\n",
    "    \n",
    "    def __init__(self, nDecks = 1):\n",
    "        self.cards = []\n",
    "        self.buildDeck(nDecks)\n",
    "        self.prepareDeck()\n",
    "    \n",
    "    def buildDeck(self, nDecks):\n",
    "        for i in range(nDecks):\n",
    "            for j in range(4): # 4 of each card per deck\n",
    "                for rank in RANKS:\n",
    "                    self.cards.append(Card(rank))\n",
    "    \n",
    "    def prepareDeck(self):\n",
    "        for i in range(7):\n",
    "            self.shuffle()\n",
    "            \n",
    "    def shuffle(self):\n",
    "        random.shuffle(self.cards)\n",
    "        \n",
    "    def draw(self):\n",
    "        card = self.cards.pop(0)\n",
    "        return card\n",
    "    \n",
    "    def __len__(self):\n",
    "        return len(self.cards)\n",
    "    \n",
    "    def __str__(self):\n",
    "        return str([str(card) for card in self.cards])\n",
    "    \n",
    "    \n",
    "# Hand class keeps\n",
    "    # hand - cards in the hand\n",
    "    # bet - the bet placed on the hand\n",
    "class Hand(object):\n",
    "    \n",
    "    def __init__(self, card = None, bet = 50):\n",
    "        self.bet = bet\n",
    "        self.cards = []\n",
    "        if card:\n",
    "            self.cards.append(card)\n",
    "        \n",
    "    def addCard(self, card):\n",
    "        self.cards.append(card)     \n",
    "            \n",
    "    def removeCard(self):\n",
    "        return self.cards.pop()\n",
    "    \n",
    "    def isBust(self):\n",
    "        if self.value > 21:\n",
    "            return True\n",
    "        return False\n",
    "    \n",
    "    def isBlackjack(self):\n",
    "        if len(self.cards) == 2:\n",
    "            if self.value == 21:\n",
    "                return True\n",
    "        return False\n",
    "        \n",
    "    def calculateValue(self, prop = 'value'):\n",
    "        value = sum(card.value for card in self.cards)\n",
    "        aces = sum(card.isAce for card in self.cards)  \n",
    "        # Aces are initially given a value of 11, they are ammended to 1 if the total valaue is > 21\n",
    "        while (value > 21) and aces: \n",
    "            value -= 10\n",
    "            aces -= 1\n",
    "        if (prop == 'aces'):\n",
    "            return aces\n",
    "        return value\n",
    "        \n",
    "    @property\n",
    "    def value(self):\n",
    "        return self.calculateValue()\n",
    "    \n",
    "    @property\n",
    "    def soft(self):\n",
    "        if self.calculateValue('aces'):\n",
    "            return True\n",
    "        return False\n",
    "              \n",
    "    def __len__(self):\n",
    "        return len(self.cards)\n",
    "    \n",
    "    def __str__(self):\n",
    "        return str([str(card) for card in self.cards])\n",
    "        \n",
    "    def __repr__(self):\n",
    "        return str(self.cards)"
   ]
  },
  {
   "cell_type": "markdown",
   "metadata": {},
   "source": [
    "#### Testing Card, Deck, and Hand"
   ]
  },
  {
   "cell_type": "code",
   "execution_count": 266,
   "metadata": {},
   "outputs": [
    {
     "name": "stdout",
     "output_type": "stream",
     "text": [
      "All tests passed\n"
     ]
    }
   ],
   "source": [
    "ace = Card('A')\n",
    "king = Card('K')\n",
    "queen = Card('Q')\n",
    "jack = Card('J')\n",
    "ten = Card('10')\n",
    "nine = Card('9')\n",
    "eight = Card('8')\n",
    "seven = Card('7')\n",
    "six = Card('6')\n",
    "five = Card('5')\n",
    "four = Card('4')\n",
    "three = Card('3')\n",
    "two = Card('2')\n",
    "noCard = Card()\n",
    "passed = 0\n",
    "\n",
    "# Test A,K,Q,9,4\n",
    "if ace.value == 11:\n",
    "    if ace.rank == 'A':\n",
    "        passed += 1\n",
    "if king.value == 10:\n",
    "    if king.rank == 'K':\n",
    "        passed += 1\n",
    "if queen.value == 10:\n",
    "    if queen.rank == 'Q':\n",
    "        passed += 1\n",
    "if four.value == 4:\n",
    "    if four.rank == '4':\n",
    "        passed += 1\n",
    "if nine.value == 9:\n",
    "    if nine.rank == '9':\n",
    "        passed += 1\n",
    "if noCard.value == 0:\n",
    "        passed += 1\n",
    "\n",
    "# Test Equality and Inequality\n",
    "if king == queen:\n",
    "    passed += 1 \n",
    "if not king == nine:\n",
    "    passed += 1\n",
    "    \n",
    "# All Tests\n",
    "if passed == 8:\n",
    "    print('All tests passed')\n",
    "else:\n",
    "    print(str(8-passed) + ' tests failed')"
   ]
  },
  {
   "cell_type": "code",
   "execution_count": null,
   "metadata": {
    "collapsed": true
   },
   "outputs": [],
   "source": []
  },
  {
   "cell_type": "code",
   "execution_count": 267,
   "metadata": {},
   "outputs": [
    {
     "name": "stdout",
     "output_type": "stream",
     "text": [
      "All tests passed\n"
     ]
    }
   ],
   "source": [
    "passed = 0\n",
    "deck = Deck(1)\n",
    "\n",
    "# Testing creating a deck and drawing cards from the deck\n",
    "if len(deck) == 52:\n",
    "    passed += 1\n",
    "for i in range(5):\n",
    "    deck.draw()\n",
    "if len(deck) == 47:\n",
    "    passed +=1\n",
    "deck = Deck(6)\n",
    "if len(deck) == 312:\n",
    "    passed += 1\n",
    "if passed == 3:\n",
    "    print('All tests passed')\n",
    "else:\n",
    "    print(str(3-passed) + ' tests failed')"
   ]
  },
  {
   "cell_type": "code",
   "execution_count": 268,
   "metadata": {},
   "outputs": [
    {
     "name": "stdout",
     "output_type": "stream",
     "text": [
      "All tests passed\n"
     ]
    }
   ],
   "source": [
    "hand = Hand()\n",
    "passed = 0\n",
    "\n",
    "# Test empty hand\n",
    "if len(hand) == 0:\n",
    "    passed += 1\n",
    "    \n",
    "# Test hand.addCard()\n",
    "hand.addCard(ace)\n",
    "if len(hand) == 1:\n",
    "    passed += 1\n",
    "hand.addCard(nine)\n",
    "if len(hand) == 2:\n",
    "    passed += 1\n",
    "    \n",
    "# Test hand.isBust()\n",
    "if not hand.isBust(): # no bust\n",
    "    passed += 1\n",
    "hand.addCard(king)\n",
    "if not hand.isBust(): # no bust\n",
    "    passed += 1\n",
    "hand.addCard(ace)\n",
    "hand.addCard(ace)\n",
    "if hand.isBust():\n",
    "    passed += 1\n",
    "\n",
    "# Test hand.isBlackjack()\n",
    "if not hand.isBlackjack(): # no Blackjack\n",
    "    passed += 1\n",
    "hand = Hand(ace)\n",
    "hand.addCard(king)\n",
    "if hand.isBlackjack(): # Blackjack\n",
    "    passed += 1\n",
    "hand = Hand(king)\n",
    "hand.addCard(king)\n",
    "if not hand.isBlackjack(): # no blackjack\n",
    "    passed += 1\n",
    "       \n",
    "# Test hand.removeCard and hand.value\n",
    "hand.removeCard()\n",
    "hand.addCard(nine)\n",
    "if hand.value == 19:\n",
    "    passed += 1\n",
    "\n",
    "if passed == 10:\n",
    "    print('All tests passed')\n",
    "else:\n",
    "    print(str(10-passed) + ' tests failed')"
   ]
  },
  {
   "cell_type": "markdown",
   "metadata": {},
   "source": [
    "## Player and Dealer"
   ]
  },
  {
   "cell_type": "code",
   "execution_count": 269,
   "metadata": {
    "collapsed": true
   },
   "outputs": [],
   "source": [
    "# Player class keeps:\n",
    "    # money\n",
    "    # hands\n",
    "class Player:\n",
    "    \n",
    "    def __init__(self, money = 5000, bet = 50):\n",
    "        self.money = money\n",
    "        self.betAmount = bet\n",
    "        self.bets = []\n",
    "        self.hands = [Hand()]\n",
    "        \n",
    "    def makeBet(self, handNumber):\n",
    "        if handNumber >= len(self.bets): # new hand gets a new bet\n",
    "            self.bets.append(self.betAmount)\n",
    "        else: # double the bet\n",
    "            self.bets[handNumber] += self.betAmount\n",
    "        # remove the bet amount from players money\n",
    "        self.money -= self.betAmount\n",
    "            \n",
    "    def resetBets(self):\n",
    "        self.bets = []\n",
    "        \n",
    "    # True if player has enough money to make a bet, False otherwise\n",
    "    def hasMoney(self):\n",
    "        return self.money > self.betAmount\n",
    "        \n",
    "    def hit(self, handNumber, card):\n",
    "        self.hands[handNumber].addCard(card)\n",
    "\n",
    "    def doubleDown(self, handNumber, card):\n",
    "        self.hit(handNumber, card)\n",
    "        self.makeBet(handNumber)\n",
    "\n",
    "    def split(self, handNumber, cards):\n",
    "        newHand = Hand()\n",
    "        # remove one card from the hand being split and add to newHand\n",
    "        newHand.addCard(self.hands[handNumber].removeCard())\n",
    "        # add a second card to the old hand\n",
    "        self.hands[handNumber].addCard(cards[0])  \n",
    "        # add a second card to the new hand\n",
    "        newHand.addCard(cards[1])\n",
    "        # append newHand to players Hands and add bet for the hand\n",
    "        self.hands.append(newHand)\n",
    "        self.makeBet(len(self.hands)) # make a new bet for the new hand\n",
    "        \n",
    "        #print()\n",
    "        #print('Post Split, Hand 1: ' + str(self.hands[handNumber]) + ' Hand 2: ' + str(newHand))\n",
    "        #print('Bets: ' + str(self.bets))\n",
    "        #print(self.hands)\n",
    "        #print()\n",
    "        \n",
    "        \n",
    "    def showHands(self):\n",
    "        print(\"Player has %d hands: \\n\" % len(self.hands))\n",
    "        for hand in self.hands:\n",
    "            print(hand)\n",
    "        print() \n",
    "        \n",
    "    def __str__(self):\n",
    "        return str(self.hands)\n",
    "\n",
    "# Dealer class keeps:\n",
    "    # deck\n",
    "    # hand\n",
    "    # isBust\n",
    "class Dealer:\n",
    "    \n",
    "    def __init__(self, deck, Player):\n",
    "        self.deck = deck\n",
    "        self.hand = Hand()\n",
    "        self.player = Player\n",
    "    \n",
    "    def deal(self):\n",
    "        for i in range(2): # deal each player, including the dealer, 2 cards\n",
    "            self.hand.addCard(self.deck.draw()) # Deal the dealer a card\n",
    "            self.player.hands[0].addCard(self.deck.draw()) # Deal the player a card   \n",
    "        self.player.makeBet(0) # player makes a bet on hand\n",
    "       \n",
    "    def play(self):\n",
    "        while self.hand.value <= 17: # hits until they have 17\n",
    "            # if soft 17, dealer must hit\n",
    "            if self.hand.value == 17:\n",
    "                if self.hand.soft:\n",
    "                    self.hit()\n",
    "                else:\n",
    "                    break\n",
    "            # less than 17, must hit\n",
    "            else:\n",
    "                self.hit()\n",
    "                      \n",
    "    def hit(self):\n",
    "        self.hand.addCard(self.deck.draw())\n",
    "            \n",
    "    def stand(self):\n",
    "        return self.hand\n",
    "    \n",
    "    def showHands(self):\n",
    "        print('Dealers Hand:')\n",
    "        print(self.hand)"
   ]
  },
  {
   "cell_type": "markdown",
   "metadata": {},
   "source": [
    "#### Test Player and Dealer"
   ]
  },
  {
   "cell_type": "code",
   "execution_count": 270,
   "metadata": {},
   "outputs": [
    {
     "name": "stdout",
     "output_type": "stream",
     "text": [
      "All tests passed\n"
     ]
    }
   ],
   "source": [
    "passed = 0\n",
    "\n",
    "# Test constructor\n",
    "player = Player()\n",
    "if len(player.hands[0]) == 0:\n",
    "    passed += 1\n",
    "    \n",
    "# Test Player.makeBet()\n",
    "player.makeBet(0)\n",
    "if player.money == 4950:\n",
    "    if player.bets[0] == 50:\n",
    "        passed += 1\n",
    "        \n",
    "# Test Player.hasMoney()\n",
    "if player.hasMoney():\n",
    "    passed += 1\n",
    "player.money = 0\n",
    "if not player.hasMoney():\n",
    "    passed += 1\n",
    "player.money = 4950\n",
    "    \n",
    "# Tests passed\n",
    "if passed == 4:\n",
    "    print('All tests passed')\n",
    "else:\n",
    "    print(str(4-passed) + ' tests failed')"
   ]
  },
  {
   "cell_type": "code",
   "execution_count": 271,
   "metadata": {},
   "outputs": [
    {
     "name": "stdout",
     "output_type": "stream",
     "text": [
      "All tests passed\n"
     ]
    }
   ],
   "source": [
    "passed = 0\n",
    "player = Player()\n",
    "deck = Deck()\n",
    "dealer = Dealer(deck, player)\n",
    "\n",
    "# Test instantiation\n",
    "if len(dealer.deck) == 52:\n",
    "    passed += 1\n",
    "if len(dealer.player.hands[0]) == 0:\n",
    "    passed += 1\n",
    "if len(dealer.hand) == 0:\n",
    "    passed += 1\n",
    "    \n",
    "# Test dealer.deal()\n",
    "dealer.deal()\n",
    "if len(dealer.player.hands[0]) == 2:\n",
    "    passed += 1\n",
    "if len(dealer.hand) == 2:\n",
    "    passed += 1\n",
    "if len(dealer.deck) == 48:\n",
    "    passed += 1\n",
    "    \n",
    "# Test dealer.hit()\n",
    "dealer.hit()\n",
    "if len(dealer.hand) == 3:\n",
    "    passed += 1\n",
    "if len(dealer.deck) == 47:\n",
    "    passed += 1\n",
    "    \n",
    "# Test dealer.play()\n",
    "deck = Deck()\n",
    "player = Player()\n",
    "dealer = Dealer(deck, player)\n",
    "dealer.hand.addCard(ace)\n",
    "dealer.hand.addCard(six)\n",
    "dealer.play()\n",
    "if len(dealer.hand) > 2:\n",
    "    passed += 1\n",
    "dealer.play()\n",
    "if len(dealer.hand) > 2:\n",
    "    passed += 1\n",
    "dealer.play()\n",
    "if len(dealer.hand) > 2:\n",
    "    passed += 1\n",
    "    \n",
    "# Tests passed\n",
    "if passed == 11:\n",
    "    print('All tests passed')\n",
    "else:\n",
    "    print(str(11-passed) + ' tests failed')"
   ]
  },
  {
   "cell_type": "markdown",
   "metadata": {},
   "source": [
    "## Valid Moves and Make"
   ]
  },
  {
   "cell_type": "code",
   "execution_count": 272,
   "metadata": {
    "collapsed": true
   },
   "outputs": [],
   "source": [
    "# returns a list of valid moves for a hand\n",
    "def validMoves(player, handNumber):\n",
    "    moves = ['hit','stand']\n",
    "    # check that hand has 2 cards and the player has money to make a bet\n",
    "    if len(player.hands[handNumber].cards) == 2:\n",
    "        if player.hasMoney(): \n",
    "            moves.append('doubleDown')\n",
    "            if player.hands[handNumber].cards[0].rank == player.hands[handNumber].cards[1].rank: # compare ranks same\n",
    "                moves.append('split')\n",
    "            \n",
    "    return moves\n",
    "    \n",
    "def makeMove(game, handNumber, move):\n",
    "    if move == 'hit':\n",
    "        game.player.hit(handNumber, game.dealer.deck.draw())\n",
    "        return False\n",
    "    elif move == 'split':\n",
    "        #print('Splitting: ' + str(game.player.hands[handNumber]))\n",
    "        game.player.split(handNumber, [game.dealer.deck.draw(), game.dealer.deck.draw()])\n",
    "        return False\n",
    "    elif move == 'doubleDown':\n",
    "        game.player.doubleDown(handNumber, game.dealer.deck.draw())\n",
    "        return True\n",
    "    else:\n",
    "        return True\n",
    "\n"
   ]
  },
  {
   "cell_type": "markdown",
   "metadata": {},
   "source": [
    "#### Testing ValidMoves and MakeMove"
   ]
  },
  {
   "cell_type": "code",
   "execution_count": 273,
   "metadata": {},
   "outputs": [
    {
     "name": "stdout",
     "output_type": "stream",
     "text": [
      "All moves valid: passed\n",
      "No Money moves valid: passed\n",
      "No split moves valid: passed\n",
      "Basic moves 3 cards valid: passed\n",
      "Split moves valid: passed\n"
     ]
    }
   ],
   "source": [
    "# Testing valid Moves\n",
    "player = Player()\n",
    "player.hands[0].addCard(king)\n",
    "player.hands[0].addCard(king)\n",
    "\n",
    "# check all moves are avilable\n",
    "moves = validMoves(player, 0)\n",
    "if moves == ['hit','stand','doubleDown','split']:\n",
    "    print('All moves valid: passed')\n",
    "else:\n",
    "    print('All moves valid: failed')\n",
    "    print(moves)\n",
    "    \n",
    "# check no money moves\n",
    "player = Player(0)\n",
    "player.hands[0].addCard(king)\n",
    "player.hands[0].addCard(king)\n",
    "moves = validMoves(player, 0)\n",
    "if moves == ['hit','stand']:\n",
    "    print('No Money moves valid: passed')\n",
    "else:\n",
    "    print('No Money moves valid: failed')\n",
    "    print(moves)\n",
    "    \n",
    "# check no split moves\n",
    "player = Player()\n",
    "player.hands[0].addCard(king)\n",
    "player.hands[0].addCard(five)\n",
    "moves = validMoves(player, 0)\n",
    "if moves == ['hit','stand', 'doubleDown']:\n",
    "    print('No split moves valid: passed')\n",
    "else:\n",
    "    print('No split moves valid: failed')\n",
    "    print(moves)\n",
    "    \n",
    "# check basics - more than 2 cards\n",
    "player = Player()\n",
    "player.hands[0].addCard(king)\n",
    "player.hands[0].addCard(five)\n",
    "player.hands[0].addCard(four)\n",
    "moves = validMoves(player, 0)\n",
    "if moves == ['hit','stand']:\n",
    "    print('Basic moves 3 cards valid: passed')\n",
    "else:\n",
    "    print('Basic moves 3 valid: failed')\n",
    "    print(moves)\n",
    "    \n",
    "# check split moves\n",
    "player = Player()\n",
    "player.hands[0].addCard(five)\n",
    "player.hands[0].addCard(five)\n",
    "moves = validMoves(player, 0)\n",
    "if moves == ['hit','stand', 'doubleDown', 'split']:\n",
    "    print('Split moves valid: passed')\n",
    "else:\n",
    "    print('Split moves valid: failed')\n",
    "    print(moves)"
   ]
  },
  {
   "cell_type": "code",
   "execution_count": 274,
   "metadata": {},
   "outputs": [
    {
     "name": "stdout",
     "output_type": "stream",
     "text": [
      "split move: passed\n",
      "doubleDown move: passed\n",
      "hit move: passed\n"
     ]
    }
   ],
   "source": [
    "player = Player()\n",
    "\n",
    "# Test Split\n",
    "player.hands[0].addCard(king)\n",
    "player.hands[0].addCard(king)\n",
    "player.bets.append(player.betAmount)\n",
    "player.split(0, [five, two])\n",
    "if player.hands[0].cards == [king, five]:   \n",
    "    if player.hands[1].cards == [king, two]:\n",
    "        if player.bets == [50,50]:\n",
    "            print('split move: passed')\n",
    "        else:\n",
    "            print('split move: failed')\n",
    "    else:\n",
    "        print('split move: failed')\n",
    "else:\n",
    "    print('split move: failed')\n",
    "    \n",
    "# Test doubleDown\n",
    "player = Player()\n",
    "player.hands[0].addCard(king)\n",
    "player.hands[0].addCard(two)\n",
    "player.makeBet(0)\n",
    "player.doubleDown(0, ten)\n",
    "if player.hands[0].cards == [king, two, ten]:\n",
    "    if player.bets == [100]:\n",
    "        print('doubleDown move: passed')\n",
    "    else:\n",
    "        print('doubleDown move: failed')\n",
    "else:\n",
    "    print('doubleDown move: failed')\n",
    "    \n",
    "# Test hit\n",
    "player.hit(0, ace)\n",
    "if player.hands[0].cards == [king, two, ten, ace]:\n",
    "    print('hit move: passed')\n",
    "else:\n",
    "    print('hit move: failed')    "
   ]
  },
  {
   "cell_type": "markdown",
   "metadata": {},
   "source": [
    "## Blackjack Game"
   ]
  },
  {
   "cell_type": "code",
   "execution_count": 275,
   "metadata": {
    "collapsed": true
   },
   "outputs": [],
   "source": [
    "class Blackjack:\n",
    "    \n",
    "    def __init__(self, player):\n",
    "        self.player = player\n",
    "        self.deck = Deck(6)\n",
    "        self.dealer = Dealer(self.deck, player) # Remember, dealer holds the deck and deals, not the game\n",
    "        self.dealer.deal()\n",
    "        \n",
    "    def newHand(self):\n",
    "        self.player.hands = [Hand()]\n",
    "        self.player.resetBets()\n",
    "        self.dealer.hand = Hand()\n",
    "        self.dealer.deal()\n",
    "        \n",
    "    def newDeck(self):\n",
    "        self.dealer.deck = Deck(6)\n",
    "       \n",
    "    # hand is player's hand\n",
    "    def gameStatus(self, hand):\n",
    "        # player bust\n",
    "        if hand.isBust():\n",
    "            return -1\n",
    "        # dealer bust\n",
    "        if self.dealer.hand.isBust():\n",
    "            return 1\n",
    "        # draw\n",
    "        if hand.value == self.dealer.hand.value:\n",
    "            return 0\n",
    "        # player win\n",
    "        if hand.value > self.dealer.hand.value:\n",
    "            return 1\n",
    "        # dealer win\n",
    "        if hand.value < self.dealer.hand.value:\n",
    "            return -1\n",
    "        \n",
    "        "
   ]
  },
  {
   "cell_type": "markdown",
   "metadata": {},
   "source": [
    "#### Test Blackjack"
   ]
  },
  {
   "cell_type": "code",
   "execution_count": 276,
   "metadata": {},
   "outputs": [
    {
     "name": "stdout",
     "output_type": "stream",
     "text": [
      "All tests passed\n"
     ]
    }
   ],
   "source": [
    "player = Player()\n",
    "game = Blackjack(player)\n",
    "passed = 0\n",
    "\n",
    "def testBlackjack(game, decksize, money):\n",
    "    passed = 0\n",
    "    # Test player dealt correct number of cards, makes bet, and loses money coorectly\n",
    "    if len(game.player.hands) == 1:\n",
    "        if len(game.player.hands[0].cards) == 2:\n",
    "            passed += 1\n",
    "    if len(game.player.bets) == 1:\n",
    "        if game.player.bets[0] == 50:\n",
    "            passed += 1\n",
    "    if game.player.money == money:\n",
    "        passed += 1\n",
    "    # Test dealer dealt correct number of cards\n",
    "    if len(game.dealer.hand.cards) == 2:\n",
    "        passed += 1\n",
    "    # Test deck dealt correctly\n",
    "    if len(game.dealer.deck) == decksize:\n",
    "        passed += 1\n",
    "    return passed\n",
    "\n",
    "# Test initialization\n",
    "passed += testBlackjack(game, 308, 4950)\n",
    "# Test new hand\n",
    "game.newHand()\n",
    "passed += testBlackjack(game, 304, 4900)\n",
    "# Test new deck\n",
    "game.newDeck()\n",
    "passed += testBlackjack(game, 312, 4900)\n",
    "\n",
    "# Tests passed\n",
    "if passed == 15:\n",
    "    print('All tests passed')\n",
    "else:\n",
    "    print(str(15-passed) + ' tests failed')"
   ]
  },
  {
   "cell_type": "code",
   "execution_count": 277,
   "metadata": {},
   "outputs": [
    {
     "name": "stdout",
     "output_type": "stream",
     "text": [
      "All tests passed\n"
     ]
    }
   ],
   "source": [
    "player = Player()\n",
    "game = Blackjack(player)\n",
    "game.player.hands[0].removeCard()\n",
    "game.player.hands[0].removeCard()\n",
    "game.dealer.hand.removeCard()\n",
    "game.dealer.hand.removeCard()\n",
    "game.player.hands[0].addCard(ten)\n",
    "game.player.hands[0].addCard(ten)\n",
    "game.dealer.hand.addCard(ten)\n",
    "game.dealer.hand.addCard(ten)\n",
    "passed = 0\n",
    "\n",
    "# Test player bust\n",
    "game.player.hands[0].addCard(ten)\n",
    "if game.gameStatus(game.player.hands[0]) == -1:\n",
    "    passed += 1\n",
    "game.player.hands[0].removeCard()\n",
    "\n",
    "# Test dealer bust\n",
    "game.dealer.hand.addCard(ten)\n",
    "if game.gameStatus(game.player.hands[0]) == 1:\n",
    "    passed += 1\n",
    "game.dealer.hand.removeCard()\n",
    "\n",
    "# Test push\n",
    "if game.gameStatus(game.player.hands[0]) == 0:\n",
    "    passed += 1\n",
    "\n",
    "# Test player win\n",
    "game.player.hands[0].addCard(ace)\n",
    "if game.gameStatus(game.player.hands[0]) == 1:\n",
    "    passed += 1\n",
    "game.player.hands[0].removeCard()\n",
    "\n",
    "# Test player loss\n",
    "game.dealer.hand.addCard(ace)\n",
    "if game.gameStatus(game.player.hands[0]) == -1:\n",
    "    passed += 1\n",
    "game.dealer.hand.removeCard()\n",
    "\n",
    "# Tests passed\n",
    "if passed == 5:\n",
    "    print('All tests passed')\n",
    "else:\n",
    "    print(str(5-passed) + ' tests failed')\n"
   ]
  },
  {
   "cell_type": "markdown",
   "metadata": {},
   "source": [
    "## TrainQ"
   ]
  },
  {
   "cell_type": "code",
   "execution_count": 278,
   "metadata": {},
   "outputs": [],
   "source": [
    "import random\n",
    "import numpy as np\n",
    "import copy\n",
    "import operator\n",
    "\n",
    "# determines if a greedy move should be taken\n",
    "def epsilonGreedy (epsilon, Q, player, handNumber, dealerCard, validMovesF):\n",
    "    validMoves = validMovesF(player, handNumber)\n",
    "    \n",
    "    if np.random.uniform() < epsilon: # Random choice\n",
    "        return random.choice(validMoves)\n",
    "    else: # Greedy choice\n",
    "        # Greedy Move\n",
    "        Qs = np.array([Q.get(stateTuple(player.hands[handNumber], dealerCard, m), 0) for m in validMoves])\n",
    "        return validMoves[ np.argmax(Qs) ]\n",
    "\n",
    "def sortHand(hand):\n",
    "    sortedHand = [card.rank for card in hand.cards]\n",
    "    sortedHand.sort()\n",
    "    return sortedHand\n",
    "    \n",
    "    \n",
    "def stateTuple(hand, dealerCard, move):\n",
    "    sortedHand = sortHand(hand)\n",
    "    return (hand.value, str(dealerCard), move)\n",
    "\n",
    "def updateQ(Q, movesMade, value, learningRate):\n",
    "    for i, move in enumerate(movesMade):\n",
    "        # If new move update Q table with 0\n",
    "        if move not in Q:\n",
    "            Q[move] = 0\n",
    "            \n",
    "        if i == 0:\n",
    "            Q[move] += learningRate*(value + Q[move])\n",
    "        elif i < len(movesMade)-1:\n",
    "            # Update the move with learning rate\n",
    "            Q[move] += learningRate*(value + Q[move] - Q[movesMade[i-1]])\n",
    "        else:\n",
    "            Q[move] += value\n",
    "    return Q"
   ]
  },
  {
   "cell_type": "code",
   "execution_count": 279,
   "metadata": {},
   "outputs": [
    {
     "name": "stdout",
     "output_type": "stream",
     "text": [
      "['A', 'K', '10', '9', '7', '2', '3', 'Q', '4', '6', '5', 'J', '8']\n",
      "(85, 'Q', 'stand')\n"
     ]
    }
   ],
   "source": [
    "hand = Hand(ace)\n",
    "hand.addCard(king)\n",
    "hand.addCard(ten)\n",
    "hand.addCard(nine)\n",
    "hand.addCard(seven)\n",
    "hand.addCard(two)\n",
    "hand.addCard(three)\n",
    "hand.addCard(queen)\n",
    "hand.addCard(four)\n",
    "hand.addCard(six)\n",
    "hand.addCard(five)\n",
    "hand.addCard(jack)\n",
    "hand.addCard(eight)\n",
    "print(hand)\n",
    "print(stateTuple(hand, queen, 'stand'))"
   ]
  },
  {
   "cell_type": "code",
   "execution_count": 280,
   "metadata": {},
   "outputs": [],
   "source": [
    "\n",
    "def trainQ(nRepetitions, learningRate, epsilonDecayRate, validMovesF, makeMoveF):\n",
    "    epsilon = 1.0\n",
    "    \n",
    "    Q = {}\n",
    "    outcomes = np.zeros(nRepetitions)\n",
    "    epsilons = np.zeros(nRepetitions)\n",
    "    \n",
    "    for gameNum in range(nRepetitions):\n",
    "        if gameNum%100 == 0:\n",
    "            print(gameNum)\n",
    "        epsilon *= epsilonDecayRate  # decay epsilon to move away from random choices\n",
    "        epsilons[gameNum] = epsilon\n",
    "        \n",
    "        # create a game\n",
    "        player = Player()\n",
    "        blackjack = Blackjack(player)\n",
    "        \n",
    "        done = False\n",
    "        \n",
    "        # play some blackjack\n",
    "        while len(blackjack.deck) >  52: # deck is 6 decks, last deck is a buffer deck\n",
    "            if blackjack.player.hasMoney(): # make sure player has the funds to play\n",
    "                blackjack.newHand() # deal a hand\n",
    "                handNumber = 0                \n",
    "            \n",
    "                # For each players hand\n",
    "                while handNumber < len(blackjack.player.hands):\n",
    "                    done = False\n",
    "                    \n",
    "                    #print(blackjack.player.hands[handNumber])\n",
    "                    # Check for a blackjack\n",
    "                    if blackjack.player.hands[handNumber].isBlackjack():\n",
    "                        #print()\n",
    "                        #print('Blackjack')\n",
    "                        #print(blackjack.player.hands)\n",
    "                        #print('hand number: ' + str(handNumber))\n",
    "                        #print('bets: ' + str(player.bets))\n",
    "                        #print()\n",
    "                        blackjack.player.money += 2*blackjack.player.bets[handNumber] + .5*blackjack.player.bets[handNumber]\n",
    "                        done = True\n",
    "                    \n",
    "                    movesMade = [] # holds the moves made on this hand\n",
    "                    step = 0\n",
    "                    \n",
    "                    # Player plays each hand until they stand or bust\n",
    "                    while not done:\n",
    "                        step += 1\n",
    "                        \n",
    "                        # Determine a move for the players hand\n",
    "                        move = epsilonGreedy(epsilon, Q, blackjack.player, handNumber, game.dealer.hand.cards[1], validMovesF)\n",
    "                        \n",
    "                        newGame = copy.deepcopy(blackjack)\n",
    "                        done = makeMoveF(newGame, handNumber, move)\n",
    "                        \n",
    "                        # if new move, add to Q\n",
    "                        if stateTuple(blackjack.player.hands[handNumber], blackjack.dealer.hand.cards[1], move) not in Q:\n",
    "                            Q[stateTuple(blackjack.player.hands[handNumber], blackjack.dealer.hand.cards[1], move)] = 0                        \n",
    "                        \n",
    "                        # if move results in 21, set Q value = to 0\n",
    "                        if newGame.player.hands[handNumber].value == 21:\n",
    "                            done = True\n",
    "                        # if move results in bust, update Q with reinforcement\n",
    "                        elif newGame.player.hands[handNumber].isBust():\n",
    "                            done = True\n",
    "        \n",
    "                        # store a tuple (hand, dealercard, move) for later, player can only 'see' one of dealers cards\n",
    "                        movesMade.append(stateTuple(blackjack.player.hands[handNumber], blackjack.dealer.hand.cards[1], move))\n",
    "                        \n",
    "                        blackjack = copy.deepcopy(newGame)\n",
    "                            \n",
    "                    handNumber += 1 # next hand\n",
    "                    \n",
    "                # After Player plays all his hands dealer plays\n",
    "                blackjack.dealer.play()\n",
    "                #print('moves: ' + str(movesMade))\n",
    "                \n",
    "                # After Dealer plays, check all players hands and payout on wins\n",
    "                for hand,nothing in enumerate (blackjack.player.hands):\n",
    "                    handStatus = blackjack.gameStatus(blackjack.player.hands[hand])\n",
    "                    # update Q table\n",
    "                    Q = updateQ(Q, movesMade, handStatus, learningRate)\n",
    "                    if handStatus == 0: # tie (push)\n",
    "                        blackjack.player.money += blackjack.player.bets[hand] # player gets their money back\n",
    "                    if handStatus == 1: # win\n",
    "                        blackjack.player.money += 2*blackjack.player.bets[hand] # player gets their money plus winnings\n",
    "                        \n",
    "            else:\n",
    "                break # player doesn't have the funds, game over \n",
    "        # update outcome\n",
    "        outcomes[gameNum] = blackjack.player.money\n",
    "    return Q, outcomes, epsilons\n",
    "        \n",
    "    \n",
    "    # test trainQ\n",
    "    # sort hands before tuple\n",
    "    # update Q - only last one\n",
    " \n",
    "    \n",
    "def testQ(Q, maxSteps , validMovesF, makeMoveF):\n",
    "    \n",
    "    player = Player(maxSteps*55)\n",
    "    blackjack = Blackjack(player)\n",
    "    \n",
    "    playBlackjack(Q, blackjack, maxSteps, validMovesF, makeMoveF)\n",
    "        \n",
    "    return (maxSteps*55, blackjack.player.money)\n",
    "        \n",
    "def playBlackjack(Q, blackjack, numberHands, validMovesF, makeMoveF): \n",
    "    for i in range(numberHands):\n",
    "        if i%100 == 0:\n",
    "            print(i)\n",
    "        if len(blackjack.dealer.deck) < 52:\n",
    "            blackjack.newDeck()\n",
    "            \n",
    "        blackjack.newHand() # deal a hand\n",
    "        handNumber = 0     \n",
    "        while handNumber < len(blackjack.player.hands):\n",
    "            done = False\n",
    "            \n",
    "            if blackjack.player.hands[handNumber].isBlackjack():\n",
    "                blackjack.player.money += 2*blackjack.player.bets[handNumber] + .5*blackjack.player.bets[handNumber]\n",
    "                done = True\n",
    "            \n",
    "            while not done: \n",
    "                validMoves = validMovesF(blackjack.player, handNumber)\n",
    "                Qs = np.array([Q.get(stateTuple(blackjack.player.hands[handNumber], dealer.hand.cards[1], m), 0) for m in validMoves])\n",
    "                move = validMoves[ np.argmax(Qs) ] # choose move\n",
    "                done = makeMoveF(blackjack, handNumber, move)\n",
    "                if blackjack.player.hands[handNumber].value == 21:\n",
    "                    done = True\n",
    "                if blackjack.player.hands[handNumber].isBust():\n",
    "                    done = True\n",
    "            handNumber += 1\n",
    "                \n",
    "                \n",
    "        # total hands\n",
    "        for hand,nothing in enumerate (blackjack.player.hands):\n",
    "            handStatus = blackjack.gameStatus(blackjack.player.hands[hand])\n",
    "            if handStatus == 0: # tie (push)\n",
    "                blackjack.player.money += blackjack.player.bets[hand] # player gets their money back\n",
    "            if handStatus == 1: # win\n",
    "                blackjack.player.money += 2*blackjack.player.bets[hand] # player gets their money plus winnings\n",
    "    "
   ]
  },
  {
   "cell_type": "markdown",
   "metadata": {},
   "source": [
    "## Testing"
   ]
  },
  {
   "cell_type": "code",
   "execution_count": 281,
   "metadata": {
    "scrolled": false
   },
   "outputs": [
    {
     "name": "stdout",
     "output_type": "stream",
     "text": [
      "0\n",
      "100\n",
      "200\n",
      "300\n",
      "400\n",
      "500\n",
      "600\n",
      "700\n",
      "800\n",
      "900\n",
      "1000\n",
      "1100\n",
      "1200\n",
      "1300\n",
      "1400\n",
      "1500\n",
      "1600\n",
      "1700\n",
      "1800\n",
      "1900\n",
      "2000\n",
      "2100\n",
      "2200\n",
      "2300\n",
      "2400\n",
      "[ 4500.  3825.  4450. ...,  4500.  4250.  4450.]\n"
     ]
    }
   ],
   "source": [
    "\n",
    "Q,outcomes,_ = trainQ(2500, 0.1, 0.4, validMoves, makeMove)\n",
    "    \n",
    "print(outcomes)"
   ]
  },
  {
   "cell_type": "code",
   "execution_count": 282,
   "metadata": {
    "scrolled": false
   },
   "outputs": [
    {
     "name": "stdout",
     "output_type": "stream",
     "text": [
      "{(12, 'J', 'hit'): 2.4547522904925292e+39, (11, '7', 'stand'): 0.669, (15, 'J', 'hit'): -38458265.59287524, (20, '9', 'hit'): -0.1, (20, '6', 'hit'): -0.21000000000000002, (15, 'A', 'hit'): 3.0918906716850026e+21, (16, '10', 'hit'): -1.5408383166694726e+35, (7, '9', 'hit'): -40.98718796587971, (12, '9', 'hit'): -2.2031555671251323e+38, (17, '9', 'hit'): -44190191.799459234, (17, '10', 'hit'): -5.2720956492802463e+23, (14, '10', 'hit'): -8.363174344030614e+24, (11, '4', 'stand'): 0.063361, (20, '3', 'doubleDown'): 0.1, (6, '5', 'hit'): 124.38311206951784, (17, '5', 'stand'): 10375110763700.928, (11, 'Q', 'hit'): 10772.48772957405, (15, 'Q', 'stand'): -4392227051378963.5, (17, 'J', 'stand'): -1528751609515.8855, (13, '2', 'stand'): -1.400723751080845e+17, (20, 'K', 'hit'): -0.1, (12, '10', 'stand'): -0.4641, (17, 'Q', 'stand'): -8022087521791.095, (13, 'Q', 'hit'): 821328798.4434245, (16, 'Q', 'stand'): -7681763566123.111, (19, 'K', 'hit'): -3.9, (19, '4', 'hit'): -0.1, (17, '4', 'stand'): -16055591468023.021, (9, 'Q', 'hit'): -174271.43717068183, (19, 'Q', 'hit'): -2.3, (13, '10', 'hit'): -2.944360356462028e+30, (15, 'K', 'doubleDown'): -2319017007325158.0, (13, '5', 'stand'): 6.738229245854873e+16, (13, '6', 'stand'): -9693899304576924.0, (17, '5', 'doubleDown'): -7149029927945.396, (10, '7', 'doubleDown'): -0.1, (18, '4', 'hit'): 1809.9710607190864, (17, '6', 'doubleDown'): -189623585464761.66, (13, 'Q', 'stand'): -2.496256673106593e+17, (17, 'A', 'stand'): -4712668758775.005, (16, '6', 'stand'): -19942180098111.684, (10, 'J', 'stand'): 0.1, (16, 'J', 'doubleDown'): -322757554132.0025, (19, '10', 'hit'): -1.1, (14, '9', 'hit'): 7.20116103596757e+25, (18, 'K', 'hit'): -81.52848884449034, (15, '9', 'stand'): -6918369426115524.0, (15, '9', 'hit'): -18.113706830865368, (19, '9', 'stand'): 8.672263752799185e+23, (14, '5', 'hit'): 2.2794176773369767e+24, (9, 'K', 'hit'): -21824.921632490143, (14, 'K', 'hit'): 4.7772200635424105e+25, (20, '7', 'stand'): 4.203974072065652e+41, (7, '10', 'hit'): -447.5335889664146, (16, '10', 'stand'): -7191945095520.07, (20, 'A', 'hit'): -1.2, (16, 'A', 'doubleDown'): -104338637647336.56, (7, 'K', 'stand'): -405.22577449520753, (16, '2', 'doubleDown'): -2691750702779.767, (5, '9', 'hit'): -28.99231240470788, (17, '9', 'stand'): -25766522442261.83, (16, 'Q', 'doubleDown'): -427925408315829.56, (18, '2', 'hit'): -55.731728587737614, (19, '2', 'stand'): 1.9706922266068118e+24, (20, '4', 'hit'): -0.1, (12, '6', 'hit'): -4.625647316938272e+38, (7, '10', 'stand'): -457.05805875980326, (16, 'A', 'hit'): 8975876500111620.0, (7, '7', 'doubleDown'): -22804.713954227682, (7, 'A', 'doubleDown'): -1931.8732548645598, (16, '6', 'hit'): 264673075139.0232, (16, '8', 'doubleDown'): -1772188704882.611, (18, '9', 'doubleDown'): -14712820596.096064, (12, '8', 'hit'): -6.844671900326946e+40, (17, '3', 'stand'): -1794827854869.43, (16, 'K', 'hit'): 59730719330.23158, (15, '3', 'hit'): 21060424.062394384, (14, '2', 'hit'): 3.34879375504424e+23, (15, '6', 'hit'): 3090326422.9641438, (17, '6', 'stand'): 2793591941190.9224, (17, 'K', 'stand'): -8463156788311.417, (8, '8', 'hit'): 925.7812231566243, (12, '8', 'stand'): 1.42, (16, '5', 'doubleDown'): -3053633307363.736, (10, 'Q', 'hit'): -5.596860359168208e+17, (20, 'Q', 'hit'): -1, (13, '9', 'stand'): -3.215319725839216e+17, (4, '7', 'hit'): -0.21000000000000002, (14, '7', 'hit'): -2.5167267452592755e+24, (18, '7', 'hit'): 224821529.63196358, (20, '7', 'hit'): -1, (18, '6', 'hit'): -284.0763661926669, (15, '5', 'hit'): 84.08380403761015, (5, '2', 'hit'): 0.12939084544988225, (20, '10', 'hit'): -0.1, (11, '4', 'hit'): -648.4498717425819, (19, '4', 'stand'): 9.020776086037432e+22, (12, '2', 'stand'): -0.8507688100000002, (16, '4', 'doubleDown'): -2802303923380.837, (18, 'A', 'hit'): 40758.50569643139, (19, '8', 'stand'): 4.263849699360046e+22, (10, '2', 'hit'): -4.7515283729432616e+16, (20, '2', 'stand'): 1.2047347927045704e+40, (11, '3', 'hit'): 3697.299846059918, (20, '3', 'stand'): 2.3784525560847836e+39, (12, '2', 'hit'): -1.4548174002689158e+35, (15, '2', 'hit'): 2256.3327569740973, (20, '6', 'stand'): 1.6776452005143445e+41, (14, 'J', 'hit'): -1.0462265296426952e+26, (7, 'J', 'doubleDown'): -941.2350528503357, (6, '4', 'hit'): 10.226427555714093, (14, '4', 'hit'): 1.588834250377013e+28, (12, '7', 'hit'): 1.0181315806265876e+37, (12, 'Q', 'hit'): -1.2488215088445207e+38, (7, '3', 'doubleDown'): -520.9193408005699, (14, '8', 'hit'): 4.940673651248802e+26, (12, 'A', 'hit'): -1.7958150962804204e+39, (13, 'A', 'stand'): -2.0763079502563037e+17, (12, '5', 'hit'): -1.2982146237221337e+37, (18, '5', 'hit'): -2.305996173363103, (20, 'Q', 'stand'): 3.133963492703266e+39, (20, 'A', 'stand'): 4.14162712233949e+38, (10, 'K', 'hit'): -5.479984367866211e+16, (20, 'K', 'stand'): 1.4816226059719676e+38, (16, '9', 'doubleDown'): -1794888855698.8467, (7, '6', 'doubleDown'): -1059.2301608056002, (8, '10', 'hit'): -739.8020179288197, (11, '10', 'hit'): 935.2114642379862, (19, '10', 'stand'): 3.345268992173834e+23, (13, '3', 'stand'): 1.423575392704132e+16, (11, '6', 'stand'): -1.3089000000000002, (16, '2', 'stand'): -417926053345396.5, (11, 'J', 'stand'): -0.7287171, (13, '10', 'stand'): -7.36995396524615e+16, (11, 'Q', 'stand'): -0.1, (20, '8', 'stand'): 4.832587544451844e+39, (14, 'A', 'hit'): 1.2530352654676515e+24, (19, '3', 'doubleDown'): -0.111, (13, 'Q', 'doubleDown'): -3186059598634765.0, (17, '8', 'stand'): -5197336626607.983, (14, '6', 'hit'): 5.631897570099677e+24, (11, '2', 'stand'): -0.0021000000000000046, (15, '10', 'hit'): -1.9046485768218306e+21, (15, '7', 'stand'): -1.2983416965305732e+16, (13, '4', 'doubleDown'): 1.5674384476948938e+16, (10, 'A', 'hit'): -1.7491444030604227e+17, (10, '8', 'hit'): 8354795221820542.0, (12, '3', 'hit'): -5.0017868180924434e+39, (6, '3', 'hit'): -28.463889287183953, (16, '3', 'stand'): -7564249418550.497, (9, 'A', 'hit'): -68028.42951398338, (19, 'A', 'hit'): 1, (19, 'Q', 'doubleDown'): -0.4641, (15, 'A', 'stand'): -2.1689941177444614e+17, (19, '8', 'doubleDown'): -0.61051, (10, '5', 'hit'): 3916354081181167.0, (15, '5', 'stand'): 28494776725017.195, (19, '8', 'hit'): -1.2, (15, '6', 'stand'): -3714156877280258.0, (11, 'K', 'stand'): -0.92358881, (19, '4', 'doubleDown'): 0.0021000000000000046, (10, '9', 'hit'): 7.449600233127782e+16, (20, '9', 'stand'): 7.829102640955676e+37, (19, '2', 'doubleDown'): -0.36851, (16, '5', 'stand'): -1904425777959.2812, (13, 'J', 'doubleDown'): -6187396990259716.0, (14, 'Q', 'hit'): 3.259779550621544e+23, (9, '5', 'hit'): -41244.95380851448, (11, '5', 'stand'): -1.22, (19, '6', 'doubleDown'): -0.5944049, (19, '5', 'doubleDown'): -0.4641, (13, '5', 'doubleDown'): -867918351892468.0, (19, '9', 'hit'): 0.33419999999999994, (15, '4', 'stand'): -219419295756599.56, (13, '3', 'doubleDown'): -1492542740115882.5, (15, 'J', 'stand'): -5.1281599237031864e+16, (18, 'Q', 'hit'): 15353.65392102933, (20, '4', 'stand'): 1.2284088431920642e+39, (7, '10', 'doubleDown'): -455.28438304631493, (5, 'Q', 'hit'): -27.388355843653162, (10, '4', 'hit'): -1.7593976218490706e+16, (16, '4', 'stand'): -6916643298915.214, (15, '10', 'stand'): -2170076974497183.0, (7, '7', 'hit'): 764.2860142582753, (12, 'K', 'hit'): -1.2314172666233637e+40, (16, 'K', 'stand'): -460246305587.47876, (20, 'J', 'stand'): 9.134494268021174e+37, (14, '3', 'hit'): 2809223.3717986755, (18, '8', 'hit'): -73.37945388783054, (18, '3', 'hit'): -5149.418875896369, (19, '10', 'doubleDown'): -0.771561, (13, 'K', 'doubleDown'): -6743953413441646.0, (19, '5', 'hit'): -0.1, (9, '9', 'hit'): -174911.381320558, (13, 'A', 'doubleDown'): -5346564267594096.0, (15, 'K', 'stand'): -3438340384869397.0, (5, '7', 'hit'): -18.793340612931345, (16, '7', 'stand'): -22314006414636.184, (12, '4', 'hit'): -4.157742909824827e+40, (15, '3', 'stand'): -1889178204711155.5, (13, '7', 'hit'): -3488310221607.2363, (19, '6', 'hit'): -0.1, (12, '5', 'stand'): 1.4741, (6, '10', 'hit'): -28.90740087922672, (8, '10', 'stand'): -955.7618248033189, (7, 'Q', 'hit'): -2351.8524933868302, (13, '4', 'hit'): 4.244091820851872e+34, (13, '10', 'doubleDown'): -7.205976477211805e+16, (7, '8', 'hit'): -329.16607546646355, (15, '8', 'stand'): -1453744791216201.0, (18, '10', 'hit'): -29944986512.49463, (13, '5', 'hit'): 129427183722885.0, (15, '8', 'doubleDown'): -61558048416012.26, (15, 'Q', 'doubleDown'): -1.3897259057609974e+16, (17, '2', 'stand'): 5454508321551.049, (17, '7', 'stand'): -371835567208.2603, (6, '9', 'stand'): -5.81361375668398, (13, '3', 'hit'): 1062753866785325.0, (6, '4', 'stand'): -5.1676092420200055, (19, '7', 'hit'): -0.1, (15, '4', 'doubleDown'): -57174904580289.91, (13, '9', 'hit'): 18891565171013.125, (18, '9', 'hit'): 39981.94813725663, (15, '10', 'doubleDown'): -2078475982360589.0, (19, '2', 'hit'): 0.1, (13, 'J', 'hit'): -2.221649999170397e+32, (19, '3', 'hit'): -1, (20, '10', 'stand'): 3.150475514690707e+40, (17, '10', 'stand'): -102714630730149.14, (9, '10', 'hit'): -9804.584785960025, (9, '2', 'stand'): -14086.685853283456, (17, 'J', 'hit'): 236454531.2138688, (18, 'J', 'hit'): -136.32549777110003, (13, '8', 'stand'): -2.5337562877670556e+16, (20, '5', 'stand'): 4.32777141995934e+38, (9, '7', 'stand'): -1282.2444871386422, (4, '10', 'hit'): -0.1, (6, '10', 'stand'): -30.060809908788066, (13, '7', 'stand'): -4.988507717190855e+16, (13, 'J', 'stand'): -1.273679899816022e+16, (9, '4', 'stand'): 12898.604253809075, (17, 'A', 'doubleDown'): -668488823311747.6, (7, '7', 'stand'): -232.0257256131016, (14, '9', 'stand'): -6429423012118669.0, (17, '4', 'doubleDown'): -7420002639543.426, (6, '4', 'doubleDown'): -21.363811744906112, (9, '9', 'stand'): 4012.099419750154, (15, '2', 'stand'): -1.8196606029928464e+16, (17, 'J', 'doubleDown'): -165880691173638.72, (19, 'A', 'doubleDown'): -0.009999999999999995, (8, '9', 'doubleDown'): -3692.982062872169, (14, '6', 'stand'): -1.2290634013316962e+16, (14, 'K', 'stand'): -776241483993822.5, (6, '3', 'doubleDown'): -26.271263762864578, (11, '8', 'stand'): -0.08900000000000001, (19, '9', 'doubleDown'): -0.046639, (14, '2', 'stand'): 2264557555291361.5, (5, 'J', 'hit'): -8.24700445707978, (13, '7', 'doubleDown'): -3.0919111386971948e+16, (11, '9', 'stand'): -0.285361, (17, '7', 'hit'): -102479.18612849165, (16, '3', 'doubleDown'): -14369103007830.742, (9, 'K', 'stand'): -26585.130083561675, (14, '5', 'stand'): -2.1614865298581117e+18, (14, '3', 'stand'): -2.7408020313526348e+16, (13, '2', 'doubleDown'): -732228021227536.6, (8, '5', 'doubleDown'): 20.70217088183455, (13, 'K', 'hit'): 4210676375291973.5, (17, 'Q', 'doubleDown'): -40858700002380.68, (14, 'J', 'stand'): -2.089001018503642e+16, (13, '8', 'doubleDown'): 817701274396587.4, (8, '7', 'doubleDown'): 2.771602078551582, (11, '10', 'stand'): -1.3337951000000001, (13, '9', 'doubleDown'): -1.25186181996647e+17, (17, '9', 'doubleDown'): -88412892456883.72, (11, 'A', 'doubleDown'): -3.8810131660521574e+18, (12, '10', 'hit'): 3.633216150995109e+36, (7, '8', 'doubleDown'): -515.4269619037916, (16, 'K', 'doubleDown'): -3787979470954.13, (12, 'A', 'doubleDown'): -0.331, (8, '2', 'doubleDown'): -303.6839906933079, (7, 'Q', 'doubleDown'): -1265.0379284095254, (12, '6', 'doubleDown'): -0.13892339000000004, (12, '2', 'doubleDown'): -0.6750768100000002, (11, '7', 'doubleDown'): 2.0064800264566477e+17, (13, '6', 'doubleDown'): -3187325284042320.0, (12, '9', 'doubleDown'): -0.8884307894890002, (12, '3', 'doubleDown'): 0.109561, (14, 'A', 'stand'): -5.6821170411958536e+16, (11, 'Q', 'doubleDown'): 3.308611458189791e+18, (17, '2', 'doubleDown'): -355338519728811.56, (9, 'Q', 'stand'): -3626.2810172796744, (12, 'K', 'doubleDown'): -0.21254100000000004, (19, '7', 'doubleDown'): -0.486661781, (6, '6', 'doubleDown'): -22.231931274117688, (8, 'K', 'doubleDown'): -1842.6349084685976, (14, '4', 'stand'): -954682701307260.9, (14, '10', 'stand'): -530868289221019.4, (11, '3', 'doubleDown'): 4.708006170503615e+18, (7, '4', 'doubleDown'): 256.9924942443206, (11, '4', 'doubleDown'): 3.047126338955155e+18, (9, '10', 'stand'): -9743.968761766475, (12, '7', 'doubleDown'): 0.15809730190000004, (17, 'K', 'doubleDown'): -1178520031958523.5, (12, '5', 'doubleDown'): 0.3282049, (9, 'A', 'stand'): -21599.61592446163, (14, 'Q', 'doubleDown'): -870784691599659.4, (6, '8', 'doubleDown'): -17.032586875573795, (14, '4', 'doubleDown'): -1049079857052059.6, (8, 'J', 'doubleDown'): -493.7207587917129, (14, '3', 'doubleDown'): -6423915535907224.0, (14, '10', 'doubleDown'): -546293261921054.06, (14, '6', 'doubleDown'): -889067709096.2201, (19, 'J', 'doubleDown'): -0.285361, (4, '6', 'stand'): -0.08900000000000001, (11, 'J', 'doubleDown'): -1.4227961451768e+19, (6, 'Q', 'doubleDown'): -45.536211596077315, (4, 'J', 'stand'): -0.009999999999999995, (14, '5', 'doubleDown'): -2.0137385907011224e+16, (12, '8', 'doubleDown'): 0.4641, (10, '3', 'hit'): 2.0602306523982208e+18, (12, '4', 'doubleDown'): -0.109561, (14, '8', 'doubleDown'): -371091745095953.4, (11, '10', 'doubleDown'): 5.703123217190269e+17, (13, '6', 'hit'): 1.9827801328681314e+30, (10, '7', 'hit'): -3673320435305324.0, (12, 'Q', 'doubleDown'): -1.3937424601000004, (17, '8', 'doubleDown'): -1553942525484773.8, (9, '5', 'stand'): -3670.245815818051, (4, '3', 'stand'): 0.111, (19, 'K', 'stand'): 4.4108338104314223e+23, (14, 'K', 'doubleDown'): -506788009016477.7, (9, '3', 'stand'): -13515.350458173412, (16, '6', 'doubleDown'): -193408676285.61786, (6, 'K', 'doubleDown'): -247.21379607879885, (17, '7', 'doubleDown'): -86982938095306.23, (19, '3', 'stand'): 2.5139690718276308e+26, (7, '2', 'doubleDown'): 370.1317292796233, (14, '9', 'doubleDown'): -43772753927542.5, (8, 'Q', 'doubleDown'): -781.0752530122342, (17, 'Q', 'hit'): 1.5382915082293478e+23, (8, '8', 'doubleDown'): -483.03070184374457, (19, '6', 'stand'): 3.803131289587392e+24, (10, '10', 'hit'): 8.458386108079061e+18, (17, '2', 'hit'): 1.6102675169986135e+21, (15, 'Q', 'hit'): 173317876.24033135, (13, '2', 'hit'): 1.1752578866517322e+29, (15, '4', 'hit'): 21.19678931160092, (17, '4', 'hit'): -205.30274046471033, (11, '9', 'doubleDown'): -4.181555666677585e+18, (12, 'J', 'doubleDown'): -0.550561, (6, '2', 'doubleDown'): -41.4099151356332, (9, '8', 'stand'): -8734.26400500179, (15, 'K', 'hit'): 8911598257.075777, (15, '7', 'hit'): -55.230001000283735, (6, 'J', 'doubleDown'): -65.19415828679843, (5, '10', 'hit'): -27.99962139990666, (12, '10', 'doubleDown'): -0.5214661, (10, '6', 'hit'): 1.803417619521648e+17, (15, '8', 'hit'): -8085188.450780386, (17, '8', 'hit'): 3415628914.5693555, (11, '5', 'doubleDown'): 8.346004806992657e+17, (11, 'K', 'doubleDown'): -1.1470795104026862e+18, (19, 'K', 'doubleDown'): -0.21000000000000002, (19, '5', 'stand'): 1.3423149591493763e+24, (8, '3', 'doubleDown'): -761.5618902292447, (19, 'A', 'stand'): -2.519808144322296e+23, (14, 'A', 'split'): 0, (9, 'J', 'stand'): -5709.495143922031, (18, '6', 'stand'): 141723996641.18976, (7, 'K', 'doubleDown'): -2063.205522359056, (19, 'J', 'stand'): 8.02318020366873e+23, (5, 'K', 'stand'): -108.31765166486693, (18, 'J', 'stand'): -673301495367.9156, (18, '7', 'stand'): 671214280726.3563, (12, '9', 'split'): 0, (11, '6', 'doubleDown'): -2.4269352289469466e+17, (18, '9', 'stand'): -613780095807.9303, (17, '5', 'hit'): 1.3063012945729306e+23, (18, '10', 'stand'): -24731543322.42688, (17, '10', 'doubleDown'): -105432925391084.83, (18, 'K', 'doubleDown'): -107952080303.40099, (14, '5', 'split'): 0, (5, 'A', 'stand'): -98.14444694194543, (18, '3', 'doubleDown'): -489043609067.845, (14, '7', 'stand'): -1.499733130317544e+17, (4, 'A', 'stand'): -0.2641, (6, '9', 'doubleDown'): -55.8998046745997, (18, '6', 'doubleDown'): -154084536389.74823, (14, 'Q', 'stand'): -1.1504187363170788e+16, (8, '10', 'doubleDown'): -682.334873449067, (10, 'J', 'hit'): 2.4882730669201072e+19, (16, '7', 'doubleDown'): -8113870597522.746, (11, '8', 'doubleDown'): 9.87593086562417e+17, (18, '7', 'doubleDown'): -79503862692.8248, (12, 'A', 'stand'): -1.01, (5, '7', 'stand'): -54.446575699161826, (12, '9', 'stand'): -0.331, (12, '3', 'stand'): -0.19790000000000002, (18, 'J', 'doubleDown'): -2049926829209.2454, (14, '2', 'doubleDown'): -9.342300990386818e+16, (11, '2', 'doubleDown'): 1.635995806120792e+18, (6, 'A', 'doubleDown'): -51.424824962582164, (13, 'A', 'hit'): 13622760208439.537, (15, '5', 'doubleDown'): -1273330306363230.8, (12, 'J', 'stand'): -0.22210000000000002, (12, 'Q', 'stand'): -0.6804102601, (14, '2', 'split'): 0, (18, '2', 'doubleDown'): -24833385988.32024, (12, '7', 'stand'): -0.4641, (14, '7', 'doubleDown'): -2609494121352960.5, (18, 'Q', 'doubleDown'): -41176893555.48429, (16, '10', 'doubleDown'): -7329158383907.725, (14, 'J', 'doubleDown'): -254410900658875.5, (15, '3', 'doubleDown'): -5458194341576207.0, (19, '7', 'stand'): 2.3317331206581546e+25, (15, '9', 'doubleDown'): -7431013344058555.0, (12, '6', 'stand'): 1.571561, (5, 'Q', 'stand'): -23.372552641644013, (6, '7', 'doubleDown'): -38.75101882049302, (18, '5', 'doubleDown'): -126924528106.71347, (8, 'Q', 'hit'): -525.6122874348008, (15, '6', 'doubleDown'): -1978049952317780.8, (12, '4', 'stand'): -0.1, (12, 'K', 'stand'): -0.258741, (16, '3', 'split'): 0, (12, '8', 'split'): 0, (7, '9', 'doubleDown'): -2278.4965847218946, (15, 'A', 'doubleDown'): -77269137635125.83, (15, 'J', 'doubleDown'): -1596697277015305.5, (18, '10', 'doubleDown'): -22988027339.847515, (8, 'A', 'hit'): -49506.156891355124, (8, 'K', 'hit'): -1896.9719089889124, (8, '2', 'hit'): -1539.0400509714596, (13, '4', 'stand'): -4.804572810472358e+16, (16, 'K', 'split'): 0, (7, '6', 'hit'): 45.00589440415941, (5, '5', 'stand'): -17.427014717935492, (7, 'A', 'hit'): -2729.4887413447436, (17, '3', 'doubleDown'): -12053023618987.475, (9, 'A', 'doubleDown'): -65937.90382555168, (9, '9', 'doubleDown'): 14070.372220782223, (7, 'J', 'hit'): -772.3765763552639, (11, 'J', 'hit'): 1788.1972242080624, (7, '5', 'hit'): 446.2837902023251, (9, '2', 'doubleDown'): 5248.802830625942, (4, '4', 'stand'): -0.08900000000000001, (11, '8', 'hit'): 328.3214029053138, (9, '8', 'doubleDown'): -57278.1145629117, (9, 'K', 'doubleDown'): -93269.67625861839, (9, 'Q', 'doubleDown'): -212613.89644589066, (15, '2', 'doubleDown'): -2366227187931774.5, (15, '7', 'doubleDown'): -903141716696851.9, (14, 'A', 'doubleDown'): -847970961652522.6, (19, 'Q', 'stand'): -1.392211053149118e+22, (14, '3', 'split'): 0, (16, '8', 'split'): 0, (8, '6', 'hit'): -1152.7774844996152, (7, '3', 'hit'): -166.1455243227474, (9, '6', 'doubleDown'): 9353.670946256096, (9, '4', 'doubleDown'): 406.359437146467, (9, '5', 'doubleDown'): 13788.3684805256, (7, '4', 'hit'): -6205.278200422658, (8, 'J', 'hit'): -10063.990934183134, (16, 'A', 'split'): 0, (16, '9', 'stand'): -3976817833392.473, (8, '5', 'hit'): 286.8590380917954, (12, '2', 'split'): 0, (12, '5', 'split'): 0, (9, 'J', 'doubleDown'): -26064.1378855677, (5, '8', 'stand'): -48.45391854855097, (8, '10', 'split'): 0, (4, 'Q', 'stand'): -0.1, (6, '10', 'doubleDown'): -30.89052456036231, (12, '7', 'split'): 0, (12, 'J', 'split'): 0, (14, 'J', 'split'): 0, (8, '7', 'hit'): -2712.4664374299214, (16, '4', 'hit'): 1.969208521985535e+38, (9, '3', 'doubleDown'): 18161.140491579536, (17, 'A', 'hit'): -414.39708982406114, (5, '3', 'stand'): -26.33403815644455, (17, 'K', 'hit'): 1.2579913514287903e+25, (7, 'K', 'hit'): -456.13037967043334, (12, '6', 'split'): 0, (9, '10', 'doubleDown'): -9693.603453012376, (14, '8', 'stand'): -349542168443868.06, (17, '6', 'hit'): -5720606630.526574, (12, '4', 'split'): 0, (8, '4', 'hit'): -385.2999144798274, (5, '6', 'stand'): -8.57225983745308, (5, '2', 'stand'): -17.289329102996774, (16, '9', 'hit'): 401705013.32523674, (7, '2', 'hit'): -1334.4466510090463, (17, '3', 'hit'): -367579298.841322, (16, '5', 'hit'): 3146714690.6431875, (4, '5', 'stand'): 0.009999999999999995, (5, '10', 'stand'): -27.786446791502105, (16, 'Q', 'hit'): 1.1526122770379249e+36, (16, '8', 'hit'): 38682013296998.414, (5, '3', 'doubleDown'): -22.5487405133773, (5, 'K', 'doubleDown'): -28.26003594963066, (4, '7', 'stand'): -0.1, (16, '2', 'split'): 0, (9, '7', 'hit'): 13238.827050952941, (11, 'A', 'hit'): 7849.113190821814, (12, '10', 'split'): 0, (5, 'J', 'doubleDown'): -33.02166686931818, (13, 'K', 'stand'): -8.536180536494762e+16, (8, '3', 'hit'): 1400.4126288411196, (5, '7', 'doubleDown'): 4.688870448043845, (8, '9', 'hit'): -3010.721070962257, (5, 'A', 'doubleDown'): -61.48766497979373, (9, '8', 'hit'): -8272.504733921318, (5, '5', 'doubleDown'): -8.224074051750472, (8, '9', 'split'): 0, (9, '2', 'hit'): 12723.088452000946, (8, '3', 'split'): 0, (16, '7', 'split'): 0, (11, 'K', 'hit'): 220.76011483016893, (5, '10', 'doubleDown'): -29.21645966142739, (16, 'A', 'stand'): -15256480802749.074, (9, 'J', 'hit'): -8803.492979058528, (9, '6', 'hit'): -25992.972391258852, (9, '3', 'hit'): -79502.89859327924, (5, 'Q', 'doubleDown'): -63.167707874392704, (8, 'K', 'split'): 0, (12, 'A', 'split'): 0, (14, 'Q', 'split'): 0, (8, 'J', 'split'): 0, (16, '8', 'stand'): -16217795390957.303, (8, '5', 'split'): 0, (6, '5', 'doubleDown'): -45.94440093421973, (9, '4', 'hit'): 19123.441085471582, (5, '6', 'doubleDown'): 8.627912602994927, (5, '4', 'doubleDown'): -26.02005732298793, (11, '6', 'hit'): 276.71305175899863, (16, '5', 'split'): 0, (18, 'K', 'stand'): -3596673221180.21, (18, '5', 'stand'): 6324971532782.329, (18, '4', 'doubleDown'): -9994432700889.666, (18, 'A', 'doubleDown'): -107566836939.50757, (13, '8', 'hit'): 1.8217603731474812e+32, (5, '2', 'doubleDown'): -4.629567058174256, (14, '6', 'split'): 0, (7, 'A', 'stand'): -498.01794108696316, (4, 'K', 'stand'): 0.009999999999999995, (16, '4', 'split'): 0, (18, '8', 'doubleDown'): -219488475376.32538, (7, '5', 'stand'): -169.95029698139135, (9, '7', 'doubleDown'): 12124.372665318238, (7, 'J', 'stand'): -393.53498322736476, (8, '4', 'split'): 0, (7, '4', 'stand'): -127.59739252907885, (5, '9', 'doubleDown'): -26.49948013495815, (7, 'Q', 'stand'): -1123.9924039364105, (18, '3', 'split'): 0, (7, '2', 'stand'): -13.373798841932555, (18, 'Q', 'stand'): -371420573032.78076, (18, '4', 'stand'): 1484526895620.4868, (5, '8', 'doubleDown'): -42.42603373130888, (11, '7', 'hit'): -482.1959145970784, (18, 'A', 'stand'): -288838562403.43756, (16, 'J', 'split'): 0, (18, '8', 'split'): 0, (14, '7', 'split'): 0, (14, '10', 'split'): 0, (18, 'Q', 'split'): 0, (4, '2', 'stand'): -0.111, (16, '7', 'hit'): -1.3758070177299263e+35, (16, 'J', 'hit'): -1.1868383067824624e+38, (8, '8', 'split'): 0, (18, '9', 'split'): 0, (16, 'Q', 'split'): 0, (18, '6', 'split'): 0, (11, '5', 'hit'): 606.036778101263, (5, '3', 'hit'): -1.5644812997836686, (16, '10', 'split'): 0, (7, '5', 'doubleDown'): 323.37638571938567, (18, '2', 'split'): 0, (11, '9', 'hit'): 34774.564847044654, (5, 'K', 'hit'): -34.06063467173992, (14, '9', 'split'): 0, (18, '7', 'split'): 0, (5, '6', 'hit'): -6.2179165330874575, (4, '8', 'stand'): 0.1, (11, '3', 'stand'): -1.01, (8, 'A', 'split'): 0, (18, 'J', 'split'): 0, (16, 'J', 'stand'): -844405022400122.2, (18, '4', 'split'): 0, (5, 'A', 'hit'): -10.047140187885748, (16, '9', 'split'): 0, (4, '10', 'stand'): -0.1, (11, '2', 'hit'): -3607.119042899006, (4, 'Q', 'doubleDown'): -0.771561, (4, '2', 'doubleDown'): -0.36851, (4, '8', 'doubleDown'): -0.4641, (9, '6', 'stand'): 1421.5945358530635, (4, '10', 'doubleDown'): -0.08900000000000001, (5, '5', 'hit'): 0.680634764032135, (16, '6', 'split'): 0, (18, '3', 'stand'): 10572730911.264318, (14, 'K', 'split'): 0, (18, '8', 'stand'): 121941149414.60097, (18, '2', 'stand'): -50390355640.95326, (8, '2', 'split'): 0, (18, 'A', 'split'): 0, (5, '4', 'hit'): -1.3108220835375508, (4, '3', 'doubleDown'): -0.2641, (5, '8', 'hit'): -11.070250192848711, (6, '10', 'split'): 0, (14, '4', 'split'): 0, (6, '5', 'split'): 0, (18, 'K', 'split'): 0, (6, '7', 'split'): 0, (5, '9', 'stand'): -86.59164726491015, (6, '6', 'hit'): -23.075987176379343, (4, '7', 'doubleDown'): 0.131, (6, 'K', 'hit'): -29.096443916421478, (6, '9', 'hit'): -9.88738356529147, (18, '5', 'split'): 0, (6, 'Q', 'hit'): -209.24800770826295, (6, '2', 'hit'): -138.52783531512674, (6, '2', 'split'): 0, (6, 'A', 'split'): 0, (6, 'J', 'hit'): -497.6596230430666, (16, '3', 'hit'): 6.862057384199632e+36, (8, 'A', 'doubleDown'): -280.02900595079825, (16, '2', 'hit'): 72788409209.04437, (5, 'J', 'stand'): -73.2046201975325, (18, '10', 'split'): 0, (6, 'A', 'hit'): -191.48614389359233, (14, '8', 'split'): 0, (4, '5', 'doubleDown'): -0.131, (4, '4', 'doubleDown'): -0.22210000000000002, (8, '4', 'doubleDown'): 563.4938489620305, (6, '6', 'split'): 0, (4, 'J', 'doubleDown'): -0.571561, (6, 'Q', 'split'): 0, (4, 'K', 'doubleDown'): -0.22210000000000002, (6, 'J', 'split'): 0, (4, 'A', 'doubleDown'): -0.7892766099999999, (8, '6', 'doubleDown'): -421.74858836860295, (6, '3', 'split'): 0, (8, '7', 'split'): 0, (4, '9', 'doubleDown'): -0.2641, (6, '4', 'split'): 0, (6, '8', 'split'): 0, (8, '6', 'split'): 0, (6, '7', 'hit'): -103.42173382040367, (6, '8', 'hit'): -110.0731498556777, (4, '6', 'doubleDown'): 0.1, (6, '9', 'split'): 0, (8, 'Q', 'split'): 0, (7, '6', 'stand'): -48.1994521556645, (7, '9', 'stand'): -1024.6373450898295, (7, '3', 'stand'): -171.90191609895268, (4, '5', 'split'): 0, (4, 'Q', 'split'): 0, (4, 'J', 'split'): 0, (4, '7', 'split'): 0, (4, '8', 'split'): 0, (6, 'K', 'split'): 0, (4, '2', 'split'): 0, (4, '3', 'split'): 0, (4, '10', 'split'): 0, (4, 'K', 'split'): 0, (4, 'A', 'split'): 0, (4, '4', 'split'): 0, (8, 'K', 'stand'): -274.2055380208707, (4, '9', 'split'): 0, (7, '8', 'stand'): -110.44970463257827, (4, '6', 'split'): 0, (8, '9', 'stand'): -146.054033301632, (8, '3', 'stand'): 133.95331385537065, (8, '4', 'stand'): -42.101074900463885, (8, '8', 'stand'): -206.28874591636455, (8, 'J', 'stand'): -67.74521943345823, (8, '6', 'stand'): -115.89310962826502, (8, '5', 'stand'): -185.07117869571744, (8, 'A', 'stand'): -37.62652915696275, (8, '2', 'stand'): 70.06116818319359, (5, '4', 'stand'): -24.364192210393597, (8, '7', 'stand'): -102.27486487417913, (8, 'Q', 'stand'): -85.11596240475507, (6, '2', 'stand'): 0.7136230920580368, (6, '8', 'stand'): -10.73465252795148, (6, '3', 'stand'): -3.181806828072858, (6, 'J', 'stand'): -9.711451964361984, (6, '7', 'stand'): -3.229025641033824, (6, 'A', 'stand'): -38.20272780039924, (6, '6', 'stand'): -5.6546351766839775, (6, 'Q', 'stand'): -7.759254497980288, (6, '5', 'stand'): -3.8738152760934352, (6, 'K', 'stand'): -9.93197682471745}\n"
     ]
    }
   ],
   "source": [
    "print(Q)"
   ]
  },
  {
   "cell_type": "code",
   "execution_count": 283,
   "metadata": {
    "scrolled": false
   },
   "outputs": [
    {
     "name": "stdout",
     "output_type": "stream",
     "text": [
      "0\n",
      "100\n",
      "200\n",
      "300\n",
      "400\n",
      "500\n",
      "600\n",
      "700\n",
      "800\n",
      "900\n",
      "(55000, 64800.0)\n"
     ]
    }
   ],
   "source": [
    "print(testQ(Q, 1000 , validMoves, makeMove))"
   ]
  },
  {
   "cell_type": "code",
   "execution_count": 284,
   "metadata": {},
   "outputs": [
    {
     "name": "stdout",
     "output_type": "stream",
     "text": [
      "[ -3.67332044e+15   0.00000000e+00   0.00000000e+00  -1.00000000e-01]\n"
     ]
    }
   ],
   "source": [
    "hand = Hand(eight)\n",
    "hand.addCard(two)\n",
    "dealerCard = '7'\n",
    "Qs = np.array([Q.get(stateTuple(hand, dealerCard, m), 0) for m in ['hit', 'stand', 'split', 'doubleDown']])\n",
    "print(Qs)\n",
    "\n",
    "# change dealer card to value\n",
    "# change player to value (it will work but how can we tell what was in the hand)"
   ]
  },
  {
   "cell_type": "code",
   "execution_count": 285,
   "metadata": {},
   "outputs": [
    {
     "name": "stdout",
     "output_type": "stream",
     "text": [
      "52\n",
      "['2', '9', '6', '6', '7', '4', '8', 'A', 'J', '3', '3', 'Q', '9', 'Q', '7', 'K', 'K', '10', '10', 'A', 'Q', '8', '3', '10', 'J', '10', '2', '3', '6', '9', '2', 'K', '7', 'A', '5', '4', 'Q', 'J', '5', '7', '4', 'A', '8', '9', '2', '5', 'K', '4', '8', 'J', '5', '6']\n",
      "2\n",
      "9\n",
      "50\n"
     ]
    }
   ],
   "source": [
    "deck = Deck(1)\n",
    "print(len(deck))\n",
    "print(str(deck))\n",
    "print(str(deck.draw()))\n",
    "print(str(deck.draw()))\n",
    "print(len(deck))"
   ]
  },
  {
   "cell_type": "code",
   "execution_count": 286,
   "metadata": {},
   "outputs": [
    {
     "name": "stdout",
     "output_type": "stream",
     "text": [
      "156\n",
      "['J']\n",
      "['J', 'Q']\n",
      "['J', 'Q', '10']\n",
      "30\n"
     ]
    }
   ],
   "source": [
    "deck = Deck(3)\n",
    "print(len(deck))\n",
    "hand = Hand()\n",
    "hand.addCard(deck.draw())\n",
    "print(str(hand))\n",
    "hand.addCard(deck.draw())\n",
    "print(str(hand))\n",
    "hand.addCard(deck.draw())\n",
    "print(str(hand))\n",
    "print(str(hand.value))"
   ]
  },
  {
   "cell_type": "code",
   "execution_count": 287,
   "metadata": {},
   "outputs": [
    {
     "ename": "AttributeError",
     "evalue": "'Blackjack' object has no attribute 'Deck'",
     "output_type": "error",
     "traceback": [
      "\u001b[1;31m---------------------------------------------------------------------------\u001b[0m",
      "\u001b[1;31mAttributeError\u001b[0m                            Traceback (most recent call last)",
      "\u001b[1;32m<ipython-input-287-49e4b5ccf266>\u001b[0m in \u001b[0;36m<module>\u001b[1;34m()\u001b[0m\n\u001b[0;32m      1\u001b[0m \u001b[0mplayer\u001b[0m \u001b[1;33m=\u001b[0m \u001b[0mPlayer\u001b[0m\u001b[1;33m(\u001b[0m\u001b[1;33m)\u001b[0m\u001b[1;33m\u001b[0m\u001b[0m\n\u001b[0;32m      2\u001b[0m \u001b[0mgame\u001b[0m \u001b[1;33m=\u001b[0m \u001b[0mBlackjack\u001b[0m\u001b[1;33m(\u001b[0m\u001b[0mplayer\u001b[0m\u001b[1;33m)\u001b[0m\u001b[1;33m\u001b[0m\u001b[0m\n\u001b[1;32m----> 3\u001b[1;33m \u001b[0mprint\u001b[0m\u001b[1;33m(\u001b[0m\u001b[0mlen\u001b[0m\u001b[1;33m(\u001b[0m\u001b[0mgame\u001b[0m\u001b[1;33m.\u001b[0m\u001b[0mDeck\u001b[0m\u001b[1;33m)\u001b[0m\u001b[1;33m)\u001b[0m\u001b[1;33m\u001b[0m\u001b[0m\n\u001b[0m\u001b[0;32m      4\u001b[0m \u001b[0mgame\u001b[0m\u001b[1;33m.\u001b[0m\u001b[0mPlayer\u001b[0m\u001b[1;33m.\u001b[0m\u001b[0mshowHands\u001b[0m\u001b[1;33m(\u001b[0m\u001b[1;33m)\u001b[0m\u001b[1;33m\u001b[0m\u001b[0m\n\u001b[0;32m      5\u001b[0m \u001b[0mgame\u001b[0m\u001b[1;33m.\u001b[0m\u001b[0mDealer\u001b[0m\u001b[1;33m.\u001b[0m\u001b[0mshowHands\u001b[0m\u001b[1;33m(\u001b[0m\u001b[1;33m)\u001b[0m\u001b[1;33m\u001b[0m\u001b[0m\n",
      "\u001b[1;31mAttributeError\u001b[0m: 'Blackjack' object has no attribute 'Deck'"
     ]
    }
   ],
   "source": [
    "player = Player()\n",
    "game = Blackjack(player)\n",
    "print(len(game.Deck))\n",
    "game.Player.showHands()\n",
    "game.Dealer.showHands()\n",
    "game.Dealer.hand.cards[0].showCard()\n",
    "game.Dealer.showHands()\n",
    "game.newHand()\n",
    "print(len(game.Deck))\n",
    "game.Player.showHands()\n",
    "game.Dealer.hand.cards[0].showCard()\n",
    "game.Dealer.hit()\n",
    "game.Dealer.showHands()\n",
    "game.newDeck()\n",
    "print(len(game.Deck))"
   ]
  },
  {
   "cell_type": "code",
   "execution_count": null,
   "metadata": {
    "collapsed": true
   },
   "outputs": [],
   "source": [
    "game.gameStatus(game.Player.hands[0])"
   ]
  },
  {
   "cell_type": "markdown",
   "metadata": {},
   "source": [
    "#### Testing validMoves and makeMove"
   ]
  },
  {
   "cell_type": "code",
   "execution_count": null,
   "metadata": {
    "collapsed": true
   },
   "outputs": [],
   "source": []
  },
  {
   "cell_type": "code",
   "execution_count": null,
   "metadata": {
    "collapsed": true
   },
   "outputs": [],
   "source": []
  }
 ],
 "metadata": {
  "kernelspec": {
   "display_name": "Python 3",
   "language": "python",
   "name": "python3"
  },
  "language_info": {
   "codemirror_mode": {
    "name": "ipython",
    "version": 3
   },
   "file_extension": ".py",
   "mimetype": "text/x-python",
   "name": "python",
   "nbconvert_exporter": "python",
   "pygments_lexer": "ipython3",
   "version": "3.6.1"
  }
 },
 "nbformat": 4,
 "nbformat_minor": 2
}
