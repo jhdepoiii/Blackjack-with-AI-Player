{
 "cells": [
  {
   "cell_type": "markdown",
   "metadata": {},
   "source": [
    "# Blackjack with AI player"
   ]
  },
  {
   "cell_type": "code",
   "execution_count": 2,
   "metadata": {
    "collapsed": true
   },
   "outputs": [],
   "source": [
    "import random"
   ]
  },
  {
   "cell_type": "code",
   "execution_count": 73,
   "metadata": {},
   "outputs": [],
   "source": [
    "SUITS = ['club', 'spade', 'heart', 'diamond']\n",
    "RANKS = ['2','3','4','5','6','7','8','9','10','J','Q','K','A']\n",
    "\n",
    "# Card class keeps:\n",
    "    # suit - The suit of the card [club, spade, heart, diamond]\n",
    "    # rank - The rank of the card [2,3,4,5,6,7,8,9,10,J,Q,K,A]\n",
    "    # value - The point value associated with the rank\n",
    "    # hidden - faceDown = True ; faceUp = false\n",
    "    # isAce - True if the card is an Ace\n",
    "class Card(object):\n",
    "    \n",
    "    def __init__(self, suit, rank):\n",
    "        self.suit = suit\n",
    "        self.rank = rank\n",
    "        \n",
    "        if rank == 'A':\n",
    "            self.value = 11\n",
    "            self.isAce = True\n",
    "        elif rank in ['J','Q','K']:\n",
    "            self.value = 10\n",
    "            self.isAce = False\n",
    "        else:\n",
    "            self.value = int(rank) # 2-10\n",
    "            self.isAce = False\n",
    "            \n",
    "        self.hidden = False # Dealer will have one card hidden from the player\n",
    "         \n",
    "    def __str__(self):\n",
    "        if self.hidden:\n",
    "            return str(tuple('X'))\n",
    "        else: \n",
    "            return str((self.suit, self.rank))\n",
    "    \n",
    "    def hideCard(self):\n",
    "        self.hidden = True\n",
    "        \n",
    "    def showCard(self):\n",
    "        self.hidden = False\n",
    "\n",
    "# Deck class keeps:\n",
    "    # cards - list of cards remaining in the deck\n",
    "class Deck(object):\n",
    "    \n",
    "    def __init__(self, nDecks = 1):\n",
    "        self.buildDeck(nDecks)\n",
    "        self.prepareDeck()\n",
    "    \n",
    "    def buildDeck(self, nDecks):\n",
    "        self.cards = [Card(suit,rank) for i in range(nDecks) for suit in SUITS for rank in RANKS]\n",
    "    \n",
    "    def prepareDeck(self):\n",
    "        for i in range(7):\n",
    "            self.shuffle()\n",
    "            \n",
    "    def shuffle(self):\n",
    "        random.shuffle(self.cards)\n",
    "        \n",
    "    def draw(self):\n",
    "        card = self.cards.pop(0)\n",
    "        return card\n",
    "    \n",
    "    def __len__(self):\n",
    "        return len(self.cards)\n",
    "    \n",
    "    def __str__(self):\n",
    "        return str([str(card) for card in self.cards])\n",
    "    \n",
    "# Hand class keeps\n",
    "    # hand - cards in the hand\n",
    "    # bet - the bet placed on the hand\n",
    "class Hand(object):\n",
    "    \n",
    "    def __init__(self, card = None, bet = 50):\n",
    "        self.aces = 0\n",
    "        if card:\n",
    "            self.hand = [card]\n",
    "        else:\n",
    "            self.hand = []\n",
    "        self.bet = bet\n",
    "        \n",
    "    def addCard(self, card):\n",
    "        self.hand.append(card)     \n",
    "            \n",
    "    def removeCard(self):\n",
    "        return self.hand.pop()\n",
    "    \n",
    "    def totalValue(self):\n",
    "        value = sum(card.value for card in self.hand)\n",
    "        aces = sum(card.isAce for card in self.hand)  \n",
    "        # Aces are initially given a value of 11, they are ammended to 1 if the total valaue is > 21\n",
    "        while (value > 21) and aces: \n",
    "            value -= 10\n",
    "            aces -= 1\n",
    "        return value\n",
    "        \n",
    "    def __str__(self):\n",
    "        return str([str(card) for card in self.hand])\n",
    "        "
   ]
  },
  {
   "cell_type": "code",
   "execution_count": null,
   "metadata": {
    "collapsed": true
   },
   "outputs": [],
   "source": [
    "# Player class keeps:\n",
    "    # money\n",
    "    # hands\n",
    "class Player:\n",
    "    \n",
    "    def __init__(self, money = 5000):\n",
    "        self.money = money\n",
    "        self.hands = []\n",
    "\n",
    "# Dealer class keeps:\n",
    "class Dealer:\n",
    "    \n",
    "    def __init__(self):\n",
    "        "
   ]
  },
  {
   "cell_type": "markdown",
   "metadata": {},
   "source": [
    "## Testing"
   ]
  },
  {
   "cell_type": "code",
   "execution_count": 87,
   "metadata": {},
   "outputs": [
    {
     "name": "stdout",
     "output_type": "stream",
     "text": [
      "312\n",
      "[\"('spade', '5')\", \"('spade', '2')\", \"('spade', '4')\", \"('heart', '5')\", \"('club', '2')\", \"('spade', '4')\", \"('heart', '8')\", \"('diamond', '8')\", \"('heart', '2')\", \"('spade', '10')\", \"('diamond', 'Q')\", \"('diamond', '6')\", \"('heart', '9')\", \"('club', 'K')\", \"('spade', '5')\", \"('diamond', '9')\", \"('spade', 'A')\", \"('diamond', '9')\", \"('club', '5')\", \"('heart', '2')\", \"('spade', '7')\", \"('club', '7')\", \"('diamond', '7')\", \"('club', '9')\", \"('spade', 'K')\", \"('spade', '2')\", \"('spade', '9')\", \"('heart', 'K')\", \"('heart', 'Q')\", \"('diamond', 'A')\", \"('diamond', 'K')\", \"('diamond', '9')\", \"('spade', 'K')\", \"('diamond', '8')\", \"('heart', '9')\", \"('spade', 'A')\", \"('spade', '10')\", \"('club', 'J')\", \"('diamond', '5')\", \"('club', 'A')\", \"('heart', '10')\", \"('club', 'K')\", \"('heart', '4')\", \"('club', '6')\", \"('diamond', '4')\", \"('diamond', '7')\", \"('club', '10')\", \"('spade', '3')\", \"('heart', '7')\", \"('spade', 'A')\", \"('diamond', 'A')\", \"('club', 'Q')\", \"('club', '5')\", \"('heart', '10')\", \"('heart', 'Q')\", \"('club', '8')\", \"('spade', '3')\", \"('club', '3')\", \"('heart', '8')\", \"('club', 'A')\", \"('diamond', 'Q')\", \"('heart', '8')\", \"('club', '7')\", \"('spade', '6')\", \"('heart', '5')\", \"('spade', '8')\", \"('club', 'Q')\", \"('diamond', '6')\", \"('diamond', '2')\", \"('club', '5')\", \"('diamond', '10')\", \"('spade', '2')\", \"('club', '9')\", \"('diamond', 'K')\", \"('heart', '3')\", \"('heart', 'J')\", \"('spade', '7')\", \"('diamond', '4')\", \"('heart', '5')\", \"('club', '5')\", \"('club', '8')\", \"('diamond', '2')\", \"('club', '2')\", \"('diamond', '7')\", \"('heart', '3')\", \"('spade', '4')\", \"('diamond', '9')\", \"('diamond', 'Q')\", \"('heart', '6')\", \"('club', '7')\", \"('club', '4')\", \"('diamond', '6')\", \"('heart', '7')\", \"('club', 'A')\", \"('spade', '5')\", \"('heart', '6')\", \"('heart', 'J')\", \"('club', 'Q')\", \"('club', '3')\", \"('diamond', 'J')\", \"('heart', '8')\", \"('spade', '3')\", \"('heart', '7')\", \"('club', '9')\", \"('diamond', '5')\", \"('diamond', '2')\", \"('heart', '2')\", \"('heart', '4')\", \"('spade', '9')\", \"('spade', 'J')\", \"('spade', '8')\", \"('club', 'A')\", \"('spade', '5')\", \"('spade', '7')\", \"('heart', 'Q')\", \"('club', '3')\", \"('heart', '2')\", \"('diamond', '3')\", \"('club', 'K')\", \"('heart', '3')\", \"('diamond', '10')\", \"('club', '10')\", \"('heart', '8')\", \"('diamond', '10')\", \"('diamond', 'J')\", \"('club', 'K')\", \"('heart', 'A')\", \"('diamond', 'K')\", \"('diamond', '2')\", \"('heart', 'J')\", \"('club', 'A')\", \"('diamond', '4')\", \"('spade', '8')\", \"('heart', 'K')\", \"('diamond', '5')\", \"('spade', '4')\", \"('diamond', '10')\", \"('club', '7')\", \"('heart', '3')\", \"('diamond', '7')\", \"('spade', '9')\", \"('diamond', 'K')\", \"('spade', 'K')\", \"('club', 'J')\", \"('club', '4')\", \"('spade', '6')\", \"('spade', 'Q')\", \"('heart', '10')\", \"('spade', '4')\", \"('heart', '4')\", \"('spade', 'A')\", \"('spade', '4')\", \"('diamond', 'J')\", \"('spade', '6')\", \"('club', '8')\", \"('club', '6')\", \"('spade', '8')\", \"('diamond', '3')\", \"('spade', 'Q')\", \"('heart', '3')\", \"('diamond', 'Q')\", \"('heart', '2')\", \"('heart', '9')\", \"('club', 'Q')\", \"('spade', '6')\", \"('heart', '10')\", \"('club', 'Q')\", \"('heart', '10')\", \"('heart', '8')\", \"('diamond', 'Q')\", \"('spade', 'K')\", \"('club', '10')\", \"('heart', '6')\", \"('diamond', 'K')\", \"('diamond', '3')\", \"('diamond', '5')\", \"('heart', 'K')\", \"('heart', '7')\", \"('spade', 'A')\", \"('heart', '5')\", \"('spade', '2')\", \"('heart', 'K')\", \"('spade', '5')\", \"('diamond', 'A')\", \"('club', '2')\", \"('spade', 'Q')\", \"('spade', 'J')\", \"('club', '3')\", \"('club', '9')\", \"('spade', '7')\", \"('spade', '10')\", \"('heart', '7')\", \"('diamond', 'K')\", \"('club', '4')\", \"('diamond', '3')\", \"('spade', 'Q')\", \"('club', '2')\", \"('club', '10')\", \"('spade', '2')\", \"('diamond', '10')\", \"('diamond', '10')\", \"('club', '5')\", \"('heart', 'A')\", \"('club', '9')\", \"('diamond', 'J')\", \"('diamond', 'A')\", \"('heart', '4')\", \"('heart', '6')\", \"('diamond', '3')\", \"('club', '6')\", \"('club', 'J')\", \"('club', '4')\", \"('diamond', '7')\", \"('spade', '8')\", \"('heart', 'A')\", \"('heart', '6')\", \"('spade', '7')\", \"('club', '4')\", \"('diamond', '6')\", \"('spade', '9')\", \"('spade', '3')\", \"('spade', 'A')\", \"('heart', 'Q')\", \"('heart', '4')\", \"('diamond', '4')\", \"('club', '5')\", \"('diamond', '7')\", \"('club', '6')\", \"('heart', '5')\", \"('spade', 'Q')\", \"('heart', '3')\", \"('spade', '7')\", \"('club', '8')\", \"('spade', 'J')\", \"('spade', '2')\", \"('spade', '3')\", \"('club', '8')\", \"('club', '6')\", \"('diamond', '2')\", \"('club', '6')\", \"('diamond', '8')\", \"('spade', '10')\", \"('diamond', '4')\", \"('heart', '5')\", \"('club', 'J')\", \"('heart', '7')\", \"('club', '3')\", \"('spade', 'Q')\", \"('heart', '9')\", \"('heart', '10')\", \"('diamond', '2')\", \"('spade', '9')\", \"('heart', 'K')\", \"('club', 'K')\", \"('heart', '9')\", \"('heart', 'J')\", \"('heart', '2')\", \"('spade', '10')\", \"('heart', 'Q')\", \"('club', '7')\", \"('spade', '5')\", \"('club', '4')\", \"('spade', 'J')\", \"('club', '10')\", \"('club', 'A')\", \"('heart', '9')\", \"('club', '10')\", \"('spade', '6')\", \"('spade', 'K')\", \"('club', '2')\", \"('heart', 'K')\", \"('diamond', '6')\", \"('spade', 'J')\", \"('diamond', 'A')\", \"('diamond', '5')\", \"('heart', 'A')\", \"('diamond', '5')\", \"('heart', 'J')\", \"('spade', '6')\", \"('heart', 'A')\", \"('diamond', 'A')\", \"('spade', '10')\", \"('diamond', '4')\", \"('club', '9')\", \"('spade', '9')\", \"('spade', '8')\", \"('diamond', '8')\", \"('heart', 'Q')\", \"('diamond', '6')\", \"('diamond', '8')\", \"('heart', 'J')\", \"('spade', '3')\", \"('club', 'J')\", \"('club', '7')\", \"('diamond', 'J')\", \"('spade', 'K')\", \"('club', '2')\", \"('club', '8')\", \"('diamond', '3')\", \"('diamond', 'J')\", \"('club', 'Q')\", \"('diamond', '9')\", \"('diamond', '9')\", \"('heart', '6')\", \"('diamond', '8')\", \"('spade', 'J')\", \"('club', '3')\", \"('heart', 'A')\", \"('club', 'K')\", \"('diamond', 'Q')\", \"('heart', '4')\", \"('club', 'J')\"]\n",
      "('spade', '5')\n",
      "('spade', '2')\n",
      "310\n"
     ]
    }
   ],
   "source": [
    "deck = Deck(6)\n",
    "print(len(deck))\n",
    "print(str(deck))\n",
    "print(str(deck.draw()))\n",
    "print(str(deck.draw()))\n",
    "print(len(deck))"
   ]
  },
  {
   "cell_type": "code",
   "execution_count": 86,
   "metadata": {},
   "outputs": [
    {
     "name": "stdout",
     "output_type": "stream",
     "text": [
      "156\n",
      "[\"('club', 'A')\"]\n",
      "[\"('club', 'A')\", \"('diamond', '10')\"]\n",
      "[\"('club', 'A')\", \"('diamond', '10')\", \"('diamond', '3')\"]\n",
      "14\n"
     ]
    }
   ],
   "source": [
    "deck = Deck(3)\n",
    "print(len(deck))\n",
    "hand = Hand()\n",
    "hand.addCard(deck.draw())\n",
    "print(str(hand))\n",
    "hand.addCard(deck.draw())\n",
    "print(str(hand))\n",
    "hand.addCard(deck.draw())\n",
    "print(str(hand))\n",
    "print(str(hand.totalValue()))"
   ]
  },
  {
   "cell_type": "code",
   "execution_count": null,
   "metadata": {
    "collapsed": true
   },
   "outputs": [],
   "source": []
  },
  {
   "cell_type": "code",
   "execution_count": null,
   "metadata": {
    "collapsed": true
   },
   "outputs": [],
   "source": []
  }
 ],
 "metadata": {
  "kernelspec": {
   "display_name": "Python 3",
   "language": "python",
   "name": "python3"
  },
  "language_info": {
   "codemirror_mode": {
    "name": "ipython",
    "version": 3
   },
   "file_extension": ".py",
   "mimetype": "text/x-python",
   "name": "python",
   "nbconvert_exporter": "python",
   "pygments_lexer": "ipython3",
   "version": "3.6.1"
  }
 },
 "nbformat": 4,
 "nbformat_minor": 2
}
